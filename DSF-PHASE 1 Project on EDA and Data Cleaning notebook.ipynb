{
 "cells": [
  {
   "cell_type": "markdown",
   "id": "bdb3f5a4",
   "metadata": {},
   "source": [
    "#  Data Cleaning\n",
    "\n"
   ]
  },
  {
   "cell_type": "markdown",
   "id": "f4bdf602",
   "metadata": {},
   "source": [
    "After looking into my dataset and reviewing what categorical and numerical data I will require for my analysis, I will start by cleaning the dataset by:\n",
    "  1. Dropping columns that are unnecessary for my analysis\n",
    "  2. Checking for missing values\n",
    "  3. Rectifying column arrangement for uniformity\n",
    "  4. Checking for outliers and eliminating them\n",
    "  5. Checking and dropping duplicates\n",
    "  6. Changing data types for uniformity"
   ]
  },
  {
   "cell_type": "markdown",
   "id": "2211ebb1",
   "metadata": {},
   "source": [
    "I will start by importing the necessary libraries for data cleaning. They are pre-written codes that provide a specific functionality in our case data cleaning and analysis."
   ]
  },
  {
   "cell_type": "code",
   "execution_count": 1,
   "id": "8c6d6aa9",
   "metadata": {},
   "outputs": [],
   "source": [
    "# Importing the various libraries used for data cleaning and analysis\n",
    "# We assign each library an alias for instance the alias for pandas is pd\n",
    "import pandas as pd \n",
    "import matplotlib.pyplot as plt\n",
    "import seaborn as sns\n",
    "import numpy as np\n",
    " "
   ]
  },
  {
   "cell_type": "markdown",
   "id": "2d82f103",
   "metadata": {},
   "source": [
    "After importing the various libraries I will load the dataset to my notebook."
   ]
  },
  {
   "cell_type": "code",
   "execution_count": 2,
   "id": "f75b30a5",
   "metadata": {},
   "outputs": [
    {
     "name": "stderr",
     "output_type": "stream",
     "text": [
      "C:\\Users\\123\\AppData\\Local\\Temp\\ipykernel_6620\\692569652.py:3: DtypeWarning: Columns (6,7,28) have mixed types. Specify dtype option on import or set low_memory=False.\n",
      "  df = pd.read_csv(\"AviationData.csv\", encoding='latin1')\n"
     ]
    },
    {
     "data": {
      "text/html": [
       "<div>\n",
       "<style scoped>\n",
       "    .dataframe tbody tr th:only-of-type {\n",
       "        vertical-align: middle;\n",
       "    }\n",
       "\n",
       "    .dataframe tbody tr th {\n",
       "        vertical-align: top;\n",
       "    }\n",
       "\n",
       "    .dataframe thead th {\n",
       "        text-align: right;\n",
       "    }\n",
       "</style>\n",
       "<table border=\"1\" class=\"dataframe\">\n",
       "  <thead>\n",
       "    <tr style=\"text-align: right;\">\n",
       "      <th></th>\n",
       "      <th>Event.Id</th>\n",
       "      <th>Investigation.Type</th>\n",
       "      <th>Accident.Number</th>\n",
       "      <th>Event.Date</th>\n",
       "      <th>Location</th>\n",
       "      <th>Country</th>\n",
       "      <th>Latitude</th>\n",
       "      <th>Longitude</th>\n",
       "      <th>Airport.Code</th>\n",
       "      <th>Airport.Name</th>\n",
       "      <th>...</th>\n",
       "      <th>Purpose.of.flight</th>\n",
       "      <th>Air.carrier</th>\n",
       "      <th>Total.Fatal.Injuries</th>\n",
       "      <th>Total.Serious.Injuries</th>\n",
       "      <th>Total.Minor.Injuries</th>\n",
       "      <th>Total.Uninjured</th>\n",
       "      <th>Weather.Condition</th>\n",
       "      <th>Broad.phase.of.flight</th>\n",
       "      <th>Report.Status</th>\n",
       "      <th>Publication.Date</th>\n",
       "    </tr>\n",
       "  </thead>\n",
       "  <tbody>\n",
       "    <tr>\n",
       "      <th>0</th>\n",
       "      <td>20001218X45444</td>\n",
       "      <td>Accident</td>\n",
       "      <td>SEA87LA080</td>\n",
       "      <td>1948-10-24</td>\n",
       "      <td>MOOSE CREEK, ID</td>\n",
       "      <td>United States</td>\n",
       "      <td>NaN</td>\n",
       "      <td>NaN</td>\n",
       "      <td>NaN</td>\n",
       "      <td>NaN</td>\n",
       "      <td>...</td>\n",
       "      <td>Personal</td>\n",
       "      <td>NaN</td>\n",
       "      <td>2.0</td>\n",
       "      <td>0.0</td>\n",
       "      <td>0.0</td>\n",
       "      <td>0.0</td>\n",
       "      <td>UNK</td>\n",
       "      <td>Cruise</td>\n",
       "      <td>Probable Cause</td>\n",
       "      <td>NaN</td>\n",
       "    </tr>\n",
       "    <tr>\n",
       "      <th>1</th>\n",
       "      <td>20001218X45447</td>\n",
       "      <td>Accident</td>\n",
       "      <td>LAX94LA336</td>\n",
       "      <td>1962-07-19</td>\n",
       "      <td>BRIDGEPORT, CA</td>\n",
       "      <td>United States</td>\n",
       "      <td>NaN</td>\n",
       "      <td>NaN</td>\n",
       "      <td>NaN</td>\n",
       "      <td>NaN</td>\n",
       "      <td>...</td>\n",
       "      <td>Personal</td>\n",
       "      <td>NaN</td>\n",
       "      <td>4.0</td>\n",
       "      <td>0.0</td>\n",
       "      <td>0.0</td>\n",
       "      <td>0.0</td>\n",
       "      <td>UNK</td>\n",
       "      <td>Unknown</td>\n",
       "      <td>Probable Cause</td>\n",
       "      <td>19-09-1996</td>\n",
       "    </tr>\n",
       "    <tr>\n",
       "      <th>2</th>\n",
       "      <td>20061025X01555</td>\n",
       "      <td>Accident</td>\n",
       "      <td>NYC07LA005</td>\n",
       "      <td>1974-08-30</td>\n",
       "      <td>Saltville, VA</td>\n",
       "      <td>United States</td>\n",
       "      <td>36.922223</td>\n",
       "      <td>-81.878056</td>\n",
       "      <td>NaN</td>\n",
       "      <td>NaN</td>\n",
       "      <td>...</td>\n",
       "      <td>Personal</td>\n",
       "      <td>NaN</td>\n",
       "      <td>3.0</td>\n",
       "      <td>NaN</td>\n",
       "      <td>NaN</td>\n",
       "      <td>NaN</td>\n",
       "      <td>IMC</td>\n",
       "      <td>Cruise</td>\n",
       "      <td>Probable Cause</td>\n",
       "      <td>26-02-2007</td>\n",
       "    </tr>\n",
       "    <tr>\n",
       "      <th>3</th>\n",
       "      <td>20001218X45448</td>\n",
       "      <td>Accident</td>\n",
       "      <td>LAX96LA321</td>\n",
       "      <td>1977-06-19</td>\n",
       "      <td>EUREKA, CA</td>\n",
       "      <td>United States</td>\n",
       "      <td>NaN</td>\n",
       "      <td>NaN</td>\n",
       "      <td>NaN</td>\n",
       "      <td>NaN</td>\n",
       "      <td>...</td>\n",
       "      <td>Personal</td>\n",
       "      <td>NaN</td>\n",
       "      <td>2.0</td>\n",
       "      <td>0.0</td>\n",
       "      <td>0.0</td>\n",
       "      <td>0.0</td>\n",
       "      <td>IMC</td>\n",
       "      <td>Cruise</td>\n",
       "      <td>Probable Cause</td>\n",
       "      <td>12-09-2000</td>\n",
       "    </tr>\n",
       "    <tr>\n",
       "      <th>4</th>\n",
       "      <td>20041105X01764</td>\n",
       "      <td>Accident</td>\n",
       "      <td>CHI79FA064</td>\n",
       "      <td>1979-08-02</td>\n",
       "      <td>Canton, OH</td>\n",
       "      <td>United States</td>\n",
       "      <td>NaN</td>\n",
       "      <td>NaN</td>\n",
       "      <td>NaN</td>\n",
       "      <td>NaN</td>\n",
       "      <td>...</td>\n",
       "      <td>Personal</td>\n",
       "      <td>NaN</td>\n",
       "      <td>1.0</td>\n",
       "      <td>2.0</td>\n",
       "      <td>NaN</td>\n",
       "      <td>0.0</td>\n",
       "      <td>VMC</td>\n",
       "      <td>Approach</td>\n",
       "      <td>Probable Cause</td>\n",
       "      <td>16-04-1980</td>\n",
       "    </tr>\n",
       "    <tr>\n",
       "      <th>...</th>\n",
       "      <td>...</td>\n",
       "      <td>...</td>\n",
       "      <td>...</td>\n",
       "      <td>...</td>\n",
       "      <td>...</td>\n",
       "      <td>...</td>\n",
       "      <td>...</td>\n",
       "      <td>...</td>\n",
       "      <td>...</td>\n",
       "      <td>...</td>\n",
       "      <td>...</td>\n",
       "      <td>...</td>\n",
       "      <td>...</td>\n",
       "      <td>...</td>\n",
       "      <td>...</td>\n",
       "      <td>...</td>\n",
       "      <td>...</td>\n",
       "      <td>...</td>\n",
       "      <td>...</td>\n",
       "      <td>...</td>\n",
       "      <td>...</td>\n",
       "    </tr>\n",
       "    <tr>\n",
       "      <th>88884</th>\n",
       "      <td>20221227106491</td>\n",
       "      <td>Accident</td>\n",
       "      <td>ERA23LA093</td>\n",
       "      <td>2022-12-26</td>\n",
       "      <td>Annapolis, MD</td>\n",
       "      <td>United States</td>\n",
       "      <td>NaN</td>\n",
       "      <td>NaN</td>\n",
       "      <td>NaN</td>\n",
       "      <td>NaN</td>\n",
       "      <td>...</td>\n",
       "      <td>Personal</td>\n",
       "      <td>NaN</td>\n",
       "      <td>0.0</td>\n",
       "      <td>1.0</td>\n",
       "      <td>0.0</td>\n",
       "      <td>0.0</td>\n",
       "      <td>NaN</td>\n",
       "      <td>NaN</td>\n",
       "      <td>NaN</td>\n",
       "      <td>29-12-2022</td>\n",
       "    </tr>\n",
       "    <tr>\n",
       "      <th>88885</th>\n",
       "      <td>20221227106494</td>\n",
       "      <td>Accident</td>\n",
       "      <td>ERA23LA095</td>\n",
       "      <td>2022-12-26</td>\n",
       "      <td>Hampton, NH</td>\n",
       "      <td>United States</td>\n",
       "      <td>NaN</td>\n",
       "      <td>NaN</td>\n",
       "      <td>NaN</td>\n",
       "      <td>NaN</td>\n",
       "      <td>...</td>\n",
       "      <td>NaN</td>\n",
       "      <td>NaN</td>\n",
       "      <td>0.0</td>\n",
       "      <td>0.0</td>\n",
       "      <td>0.0</td>\n",
       "      <td>0.0</td>\n",
       "      <td>NaN</td>\n",
       "      <td>NaN</td>\n",
       "      <td>NaN</td>\n",
       "      <td>NaN</td>\n",
       "    </tr>\n",
       "    <tr>\n",
       "      <th>88886</th>\n",
       "      <td>20221227106497</td>\n",
       "      <td>Accident</td>\n",
       "      <td>WPR23LA075</td>\n",
       "      <td>2022-12-26</td>\n",
       "      <td>Payson, AZ</td>\n",
       "      <td>United States</td>\n",
       "      <td>341525N</td>\n",
       "      <td>1112021W</td>\n",
       "      <td>PAN</td>\n",
       "      <td>PAYSON</td>\n",
       "      <td>...</td>\n",
       "      <td>Personal</td>\n",
       "      <td>NaN</td>\n",
       "      <td>0.0</td>\n",
       "      <td>0.0</td>\n",
       "      <td>0.0</td>\n",
       "      <td>1.0</td>\n",
       "      <td>VMC</td>\n",
       "      <td>NaN</td>\n",
       "      <td>NaN</td>\n",
       "      <td>27-12-2022</td>\n",
       "    </tr>\n",
       "    <tr>\n",
       "      <th>88887</th>\n",
       "      <td>20221227106498</td>\n",
       "      <td>Accident</td>\n",
       "      <td>WPR23LA076</td>\n",
       "      <td>2022-12-26</td>\n",
       "      <td>Morgan, UT</td>\n",
       "      <td>United States</td>\n",
       "      <td>NaN</td>\n",
       "      <td>NaN</td>\n",
       "      <td>NaN</td>\n",
       "      <td>NaN</td>\n",
       "      <td>...</td>\n",
       "      <td>Personal</td>\n",
       "      <td>MC CESSNA 210N LLC</td>\n",
       "      <td>0.0</td>\n",
       "      <td>0.0</td>\n",
       "      <td>0.0</td>\n",
       "      <td>0.0</td>\n",
       "      <td>NaN</td>\n",
       "      <td>NaN</td>\n",
       "      <td>NaN</td>\n",
       "      <td>NaN</td>\n",
       "    </tr>\n",
       "    <tr>\n",
       "      <th>88888</th>\n",
       "      <td>20221230106513</td>\n",
       "      <td>Accident</td>\n",
       "      <td>ERA23LA097</td>\n",
       "      <td>2022-12-29</td>\n",
       "      <td>Athens, GA</td>\n",
       "      <td>United States</td>\n",
       "      <td>NaN</td>\n",
       "      <td>NaN</td>\n",
       "      <td>NaN</td>\n",
       "      <td>NaN</td>\n",
       "      <td>...</td>\n",
       "      <td>Personal</td>\n",
       "      <td>NaN</td>\n",
       "      <td>0.0</td>\n",
       "      <td>1.0</td>\n",
       "      <td>0.0</td>\n",
       "      <td>1.0</td>\n",
       "      <td>NaN</td>\n",
       "      <td>NaN</td>\n",
       "      <td>NaN</td>\n",
       "      <td>30-12-2022</td>\n",
       "    </tr>\n",
       "  </tbody>\n",
       "</table>\n",
       "<p>88889 rows × 31 columns</p>\n",
       "</div>"
      ],
      "text/plain": [
       "             Event.Id Investigation.Type Accident.Number  Event.Date  \\\n",
       "0      20001218X45444           Accident      SEA87LA080  1948-10-24   \n",
       "1      20001218X45447           Accident      LAX94LA336  1962-07-19   \n",
       "2      20061025X01555           Accident      NYC07LA005  1974-08-30   \n",
       "3      20001218X45448           Accident      LAX96LA321  1977-06-19   \n",
       "4      20041105X01764           Accident      CHI79FA064  1979-08-02   \n",
       "...               ...                ...             ...         ...   \n",
       "88884  20221227106491           Accident      ERA23LA093  2022-12-26   \n",
       "88885  20221227106494           Accident      ERA23LA095  2022-12-26   \n",
       "88886  20221227106497           Accident      WPR23LA075  2022-12-26   \n",
       "88887  20221227106498           Accident      WPR23LA076  2022-12-26   \n",
       "88888  20221230106513           Accident      ERA23LA097  2022-12-29   \n",
       "\n",
       "              Location        Country   Latitude  Longitude Airport.Code  \\\n",
       "0      MOOSE CREEK, ID  United States        NaN        NaN          NaN   \n",
       "1       BRIDGEPORT, CA  United States        NaN        NaN          NaN   \n",
       "2        Saltville, VA  United States  36.922223 -81.878056          NaN   \n",
       "3           EUREKA, CA  United States        NaN        NaN          NaN   \n",
       "4           Canton, OH  United States        NaN        NaN          NaN   \n",
       "...                ...            ...        ...        ...          ...   \n",
       "88884    Annapolis, MD  United States        NaN        NaN          NaN   \n",
       "88885      Hampton, NH  United States        NaN        NaN          NaN   \n",
       "88886       Payson, AZ  United States    341525N   1112021W          PAN   \n",
       "88887       Morgan, UT  United States        NaN        NaN          NaN   \n",
       "88888       Athens, GA  United States        NaN        NaN          NaN   \n",
       "\n",
       "      Airport.Name  ... Purpose.of.flight         Air.carrier  \\\n",
       "0              NaN  ...          Personal                 NaN   \n",
       "1              NaN  ...          Personal                 NaN   \n",
       "2              NaN  ...          Personal                 NaN   \n",
       "3              NaN  ...          Personal                 NaN   \n",
       "4              NaN  ...          Personal                 NaN   \n",
       "...            ...  ...               ...                 ...   \n",
       "88884          NaN  ...          Personal                 NaN   \n",
       "88885          NaN  ...               NaN                 NaN   \n",
       "88886       PAYSON  ...          Personal                 NaN   \n",
       "88887          NaN  ...          Personal  MC CESSNA 210N LLC   \n",
       "88888          NaN  ...          Personal                 NaN   \n",
       "\n",
       "      Total.Fatal.Injuries Total.Serious.Injuries Total.Minor.Injuries  \\\n",
       "0                      2.0                    0.0                  0.0   \n",
       "1                      4.0                    0.0                  0.0   \n",
       "2                      3.0                    NaN                  NaN   \n",
       "3                      2.0                    0.0                  0.0   \n",
       "4                      1.0                    2.0                  NaN   \n",
       "...                    ...                    ...                  ...   \n",
       "88884                  0.0                    1.0                  0.0   \n",
       "88885                  0.0                    0.0                  0.0   \n",
       "88886                  0.0                    0.0                  0.0   \n",
       "88887                  0.0                    0.0                  0.0   \n",
       "88888                  0.0                    1.0                  0.0   \n",
       "\n",
       "      Total.Uninjured Weather.Condition  Broad.phase.of.flight  \\\n",
       "0                 0.0               UNK                 Cruise   \n",
       "1                 0.0               UNK                Unknown   \n",
       "2                 NaN               IMC                 Cruise   \n",
       "3                 0.0               IMC                 Cruise   \n",
       "4                 0.0               VMC               Approach   \n",
       "...               ...               ...                    ...   \n",
       "88884             0.0               NaN                    NaN   \n",
       "88885             0.0               NaN                    NaN   \n",
       "88886             1.0               VMC                    NaN   \n",
       "88887             0.0               NaN                    NaN   \n",
       "88888             1.0               NaN                    NaN   \n",
       "\n",
       "        Report.Status Publication.Date  \n",
       "0      Probable Cause              NaN  \n",
       "1      Probable Cause       19-09-1996  \n",
       "2      Probable Cause       26-02-2007  \n",
       "3      Probable Cause       12-09-2000  \n",
       "4      Probable Cause       16-04-1980  \n",
       "...               ...              ...  \n",
       "88884             NaN       29-12-2022  \n",
       "88885             NaN              NaN  \n",
       "88886             NaN       27-12-2022  \n",
       "88887             NaN              NaN  \n",
       "88888             NaN       30-12-2022  \n",
       "\n",
       "[88889 rows x 31 columns]"
      ]
     },
     "execution_count": 2,
     "metadata": {},
     "output_type": "execute_result"
    }
   ],
   "source": [
    "#Loading the dataset\n",
    "#Assign the notebook a variable df:\n",
    "df = pd.read_csv(\"AviationData.csv\", encoding='latin1')\n",
    "#To confirm the dataset has been uploaded in the notebook we either use df(it will upload the first and last five rows)\n",
    "df\n",
    "#Similarly we can select the first five rows only by using df.head() and the last five rows only by running df.tail()\n"
   ]
  },
  {
   "cell_type": "markdown",
   "id": "4b31ff7a",
   "metadata": {},
   "source": [
    "When loading the dataset in my code you notice encoding='latin1'in some cases the code will still run without including latin1 but in my case I had to include it to ensure python correctly interpretes the file content."
   ]
  },
  {
   "cell_type": "markdown",
   "id": "ce758e77",
   "metadata": {},
   "source": [
    "Before cleaning we will create a copy to retain the contents of the origin for further analysis if need be\n"
   ]
  },
  {
   "cell_type": "code",
   "execution_count": 3,
   "id": "d115babc",
   "metadata": {},
   "outputs": [
    {
     "data": {
      "text/html": [
       "<div>\n",
       "<style scoped>\n",
       "    .dataframe tbody tr th:only-of-type {\n",
       "        vertical-align: middle;\n",
       "    }\n",
       "\n",
       "    .dataframe tbody tr th {\n",
       "        vertical-align: top;\n",
       "    }\n",
       "\n",
       "    .dataframe thead th {\n",
       "        text-align: right;\n",
       "    }\n",
       "</style>\n",
       "<table border=\"1\" class=\"dataframe\">\n",
       "  <thead>\n",
       "    <tr style=\"text-align: right;\">\n",
       "      <th></th>\n",
       "      <th>Event.Id</th>\n",
       "      <th>Investigation.Type</th>\n",
       "      <th>Accident.Number</th>\n",
       "      <th>Event.Date</th>\n",
       "      <th>Location</th>\n",
       "      <th>Country</th>\n",
       "      <th>Latitude</th>\n",
       "      <th>Longitude</th>\n",
       "      <th>Airport.Code</th>\n",
       "      <th>Airport.Name</th>\n",
       "      <th>...</th>\n",
       "      <th>Purpose.of.flight</th>\n",
       "      <th>Air.carrier</th>\n",
       "      <th>Total.Fatal.Injuries</th>\n",
       "      <th>Total.Serious.Injuries</th>\n",
       "      <th>Total.Minor.Injuries</th>\n",
       "      <th>Total.Uninjured</th>\n",
       "      <th>Weather.Condition</th>\n",
       "      <th>Broad.phase.of.flight</th>\n",
       "      <th>Report.Status</th>\n",
       "      <th>Publication.Date</th>\n",
       "    </tr>\n",
       "  </thead>\n",
       "  <tbody>\n",
       "    <tr>\n",
       "      <th>0</th>\n",
       "      <td>20001218X45444</td>\n",
       "      <td>Accident</td>\n",
       "      <td>SEA87LA080</td>\n",
       "      <td>1948-10-24</td>\n",
       "      <td>MOOSE CREEK, ID</td>\n",
       "      <td>United States</td>\n",
       "      <td>NaN</td>\n",
       "      <td>NaN</td>\n",
       "      <td>NaN</td>\n",
       "      <td>NaN</td>\n",
       "      <td>...</td>\n",
       "      <td>Personal</td>\n",
       "      <td>NaN</td>\n",
       "      <td>2.0</td>\n",
       "      <td>0.0</td>\n",
       "      <td>0.0</td>\n",
       "      <td>0.0</td>\n",
       "      <td>UNK</td>\n",
       "      <td>Cruise</td>\n",
       "      <td>Probable Cause</td>\n",
       "      <td>NaN</td>\n",
       "    </tr>\n",
       "    <tr>\n",
       "      <th>1</th>\n",
       "      <td>20001218X45447</td>\n",
       "      <td>Accident</td>\n",
       "      <td>LAX94LA336</td>\n",
       "      <td>1962-07-19</td>\n",
       "      <td>BRIDGEPORT, CA</td>\n",
       "      <td>United States</td>\n",
       "      <td>NaN</td>\n",
       "      <td>NaN</td>\n",
       "      <td>NaN</td>\n",
       "      <td>NaN</td>\n",
       "      <td>...</td>\n",
       "      <td>Personal</td>\n",
       "      <td>NaN</td>\n",
       "      <td>4.0</td>\n",
       "      <td>0.0</td>\n",
       "      <td>0.0</td>\n",
       "      <td>0.0</td>\n",
       "      <td>UNK</td>\n",
       "      <td>Unknown</td>\n",
       "      <td>Probable Cause</td>\n",
       "      <td>19-09-1996</td>\n",
       "    </tr>\n",
       "    <tr>\n",
       "      <th>2</th>\n",
       "      <td>20061025X01555</td>\n",
       "      <td>Accident</td>\n",
       "      <td>NYC07LA005</td>\n",
       "      <td>1974-08-30</td>\n",
       "      <td>Saltville, VA</td>\n",
       "      <td>United States</td>\n",
       "      <td>36.922223</td>\n",
       "      <td>-81.878056</td>\n",
       "      <td>NaN</td>\n",
       "      <td>NaN</td>\n",
       "      <td>...</td>\n",
       "      <td>Personal</td>\n",
       "      <td>NaN</td>\n",
       "      <td>3.0</td>\n",
       "      <td>NaN</td>\n",
       "      <td>NaN</td>\n",
       "      <td>NaN</td>\n",
       "      <td>IMC</td>\n",
       "      <td>Cruise</td>\n",
       "      <td>Probable Cause</td>\n",
       "      <td>26-02-2007</td>\n",
       "    </tr>\n",
       "    <tr>\n",
       "      <th>3</th>\n",
       "      <td>20001218X45448</td>\n",
       "      <td>Accident</td>\n",
       "      <td>LAX96LA321</td>\n",
       "      <td>1977-06-19</td>\n",
       "      <td>EUREKA, CA</td>\n",
       "      <td>United States</td>\n",
       "      <td>NaN</td>\n",
       "      <td>NaN</td>\n",
       "      <td>NaN</td>\n",
       "      <td>NaN</td>\n",
       "      <td>...</td>\n",
       "      <td>Personal</td>\n",
       "      <td>NaN</td>\n",
       "      <td>2.0</td>\n",
       "      <td>0.0</td>\n",
       "      <td>0.0</td>\n",
       "      <td>0.0</td>\n",
       "      <td>IMC</td>\n",
       "      <td>Cruise</td>\n",
       "      <td>Probable Cause</td>\n",
       "      <td>12-09-2000</td>\n",
       "    </tr>\n",
       "    <tr>\n",
       "      <th>4</th>\n",
       "      <td>20041105X01764</td>\n",
       "      <td>Accident</td>\n",
       "      <td>CHI79FA064</td>\n",
       "      <td>1979-08-02</td>\n",
       "      <td>Canton, OH</td>\n",
       "      <td>United States</td>\n",
       "      <td>NaN</td>\n",
       "      <td>NaN</td>\n",
       "      <td>NaN</td>\n",
       "      <td>NaN</td>\n",
       "      <td>...</td>\n",
       "      <td>Personal</td>\n",
       "      <td>NaN</td>\n",
       "      <td>1.0</td>\n",
       "      <td>2.0</td>\n",
       "      <td>NaN</td>\n",
       "      <td>0.0</td>\n",
       "      <td>VMC</td>\n",
       "      <td>Approach</td>\n",
       "      <td>Probable Cause</td>\n",
       "      <td>16-04-1980</td>\n",
       "    </tr>\n",
       "    <tr>\n",
       "      <th>...</th>\n",
       "      <td>...</td>\n",
       "      <td>...</td>\n",
       "      <td>...</td>\n",
       "      <td>...</td>\n",
       "      <td>...</td>\n",
       "      <td>...</td>\n",
       "      <td>...</td>\n",
       "      <td>...</td>\n",
       "      <td>...</td>\n",
       "      <td>...</td>\n",
       "      <td>...</td>\n",
       "      <td>...</td>\n",
       "      <td>...</td>\n",
       "      <td>...</td>\n",
       "      <td>...</td>\n",
       "      <td>...</td>\n",
       "      <td>...</td>\n",
       "      <td>...</td>\n",
       "      <td>...</td>\n",
       "      <td>...</td>\n",
       "      <td>...</td>\n",
       "    </tr>\n",
       "    <tr>\n",
       "      <th>88884</th>\n",
       "      <td>20221227106491</td>\n",
       "      <td>Accident</td>\n",
       "      <td>ERA23LA093</td>\n",
       "      <td>2022-12-26</td>\n",
       "      <td>Annapolis, MD</td>\n",
       "      <td>United States</td>\n",
       "      <td>NaN</td>\n",
       "      <td>NaN</td>\n",
       "      <td>NaN</td>\n",
       "      <td>NaN</td>\n",
       "      <td>...</td>\n",
       "      <td>Personal</td>\n",
       "      <td>NaN</td>\n",
       "      <td>0.0</td>\n",
       "      <td>1.0</td>\n",
       "      <td>0.0</td>\n",
       "      <td>0.0</td>\n",
       "      <td>NaN</td>\n",
       "      <td>NaN</td>\n",
       "      <td>NaN</td>\n",
       "      <td>29-12-2022</td>\n",
       "    </tr>\n",
       "    <tr>\n",
       "      <th>88885</th>\n",
       "      <td>20221227106494</td>\n",
       "      <td>Accident</td>\n",
       "      <td>ERA23LA095</td>\n",
       "      <td>2022-12-26</td>\n",
       "      <td>Hampton, NH</td>\n",
       "      <td>United States</td>\n",
       "      <td>NaN</td>\n",
       "      <td>NaN</td>\n",
       "      <td>NaN</td>\n",
       "      <td>NaN</td>\n",
       "      <td>...</td>\n",
       "      <td>NaN</td>\n",
       "      <td>NaN</td>\n",
       "      <td>0.0</td>\n",
       "      <td>0.0</td>\n",
       "      <td>0.0</td>\n",
       "      <td>0.0</td>\n",
       "      <td>NaN</td>\n",
       "      <td>NaN</td>\n",
       "      <td>NaN</td>\n",
       "      <td>NaN</td>\n",
       "    </tr>\n",
       "    <tr>\n",
       "      <th>88886</th>\n",
       "      <td>20221227106497</td>\n",
       "      <td>Accident</td>\n",
       "      <td>WPR23LA075</td>\n",
       "      <td>2022-12-26</td>\n",
       "      <td>Payson, AZ</td>\n",
       "      <td>United States</td>\n",
       "      <td>341525N</td>\n",
       "      <td>1112021W</td>\n",
       "      <td>PAN</td>\n",
       "      <td>PAYSON</td>\n",
       "      <td>...</td>\n",
       "      <td>Personal</td>\n",
       "      <td>NaN</td>\n",
       "      <td>0.0</td>\n",
       "      <td>0.0</td>\n",
       "      <td>0.0</td>\n",
       "      <td>1.0</td>\n",
       "      <td>VMC</td>\n",
       "      <td>NaN</td>\n",
       "      <td>NaN</td>\n",
       "      <td>27-12-2022</td>\n",
       "    </tr>\n",
       "    <tr>\n",
       "      <th>88887</th>\n",
       "      <td>20221227106498</td>\n",
       "      <td>Accident</td>\n",
       "      <td>WPR23LA076</td>\n",
       "      <td>2022-12-26</td>\n",
       "      <td>Morgan, UT</td>\n",
       "      <td>United States</td>\n",
       "      <td>NaN</td>\n",
       "      <td>NaN</td>\n",
       "      <td>NaN</td>\n",
       "      <td>NaN</td>\n",
       "      <td>...</td>\n",
       "      <td>Personal</td>\n",
       "      <td>MC CESSNA 210N LLC</td>\n",
       "      <td>0.0</td>\n",
       "      <td>0.0</td>\n",
       "      <td>0.0</td>\n",
       "      <td>0.0</td>\n",
       "      <td>NaN</td>\n",
       "      <td>NaN</td>\n",
       "      <td>NaN</td>\n",
       "      <td>NaN</td>\n",
       "    </tr>\n",
       "    <tr>\n",
       "      <th>88888</th>\n",
       "      <td>20221230106513</td>\n",
       "      <td>Accident</td>\n",
       "      <td>ERA23LA097</td>\n",
       "      <td>2022-12-29</td>\n",
       "      <td>Athens, GA</td>\n",
       "      <td>United States</td>\n",
       "      <td>NaN</td>\n",
       "      <td>NaN</td>\n",
       "      <td>NaN</td>\n",
       "      <td>NaN</td>\n",
       "      <td>...</td>\n",
       "      <td>Personal</td>\n",
       "      <td>NaN</td>\n",
       "      <td>0.0</td>\n",
       "      <td>1.0</td>\n",
       "      <td>0.0</td>\n",
       "      <td>1.0</td>\n",
       "      <td>NaN</td>\n",
       "      <td>NaN</td>\n",
       "      <td>NaN</td>\n",
       "      <td>30-12-2022</td>\n",
       "    </tr>\n",
       "  </tbody>\n",
       "</table>\n",
       "<p>88889 rows × 31 columns</p>\n",
       "</div>"
      ],
      "text/plain": [
       "             Event.Id Investigation.Type Accident.Number  Event.Date  \\\n",
       "0      20001218X45444           Accident      SEA87LA080  1948-10-24   \n",
       "1      20001218X45447           Accident      LAX94LA336  1962-07-19   \n",
       "2      20061025X01555           Accident      NYC07LA005  1974-08-30   \n",
       "3      20001218X45448           Accident      LAX96LA321  1977-06-19   \n",
       "4      20041105X01764           Accident      CHI79FA064  1979-08-02   \n",
       "...               ...                ...             ...         ...   \n",
       "88884  20221227106491           Accident      ERA23LA093  2022-12-26   \n",
       "88885  20221227106494           Accident      ERA23LA095  2022-12-26   \n",
       "88886  20221227106497           Accident      WPR23LA075  2022-12-26   \n",
       "88887  20221227106498           Accident      WPR23LA076  2022-12-26   \n",
       "88888  20221230106513           Accident      ERA23LA097  2022-12-29   \n",
       "\n",
       "              Location        Country   Latitude  Longitude Airport.Code  \\\n",
       "0      MOOSE CREEK, ID  United States        NaN        NaN          NaN   \n",
       "1       BRIDGEPORT, CA  United States        NaN        NaN          NaN   \n",
       "2        Saltville, VA  United States  36.922223 -81.878056          NaN   \n",
       "3           EUREKA, CA  United States        NaN        NaN          NaN   \n",
       "4           Canton, OH  United States        NaN        NaN          NaN   \n",
       "...                ...            ...        ...        ...          ...   \n",
       "88884    Annapolis, MD  United States        NaN        NaN          NaN   \n",
       "88885      Hampton, NH  United States        NaN        NaN          NaN   \n",
       "88886       Payson, AZ  United States    341525N   1112021W          PAN   \n",
       "88887       Morgan, UT  United States        NaN        NaN          NaN   \n",
       "88888       Athens, GA  United States        NaN        NaN          NaN   \n",
       "\n",
       "      Airport.Name  ... Purpose.of.flight         Air.carrier  \\\n",
       "0              NaN  ...          Personal                 NaN   \n",
       "1              NaN  ...          Personal                 NaN   \n",
       "2              NaN  ...          Personal                 NaN   \n",
       "3              NaN  ...          Personal                 NaN   \n",
       "4              NaN  ...          Personal                 NaN   \n",
       "...            ...  ...               ...                 ...   \n",
       "88884          NaN  ...          Personal                 NaN   \n",
       "88885          NaN  ...               NaN                 NaN   \n",
       "88886       PAYSON  ...          Personal                 NaN   \n",
       "88887          NaN  ...          Personal  MC CESSNA 210N LLC   \n",
       "88888          NaN  ...          Personal                 NaN   \n",
       "\n",
       "      Total.Fatal.Injuries Total.Serious.Injuries Total.Minor.Injuries  \\\n",
       "0                      2.0                    0.0                  0.0   \n",
       "1                      4.0                    0.0                  0.0   \n",
       "2                      3.0                    NaN                  NaN   \n",
       "3                      2.0                    0.0                  0.0   \n",
       "4                      1.0                    2.0                  NaN   \n",
       "...                    ...                    ...                  ...   \n",
       "88884                  0.0                    1.0                  0.0   \n",
       "88885                  0.0                    0.0                  0.0   \n",
       "88886                  0.0                    0.0                  0.0   \n",
       "88887                  0.0                    0.0                  0.0   \n",
       "88888                  0.0                    1.0                  0.0   \n",
       "\n",
       "      Total.Uninjured Weather.Condition  Broad.phase.of.flight  \\\n",
       "0                 0.0               UNK                 Cruise   \n",
       "1                 0.0               UNK                Unknown   \n",
       "2                 NaN               IMC                 Cruise   \n",
       "3                 0.0               IMC                 Cruise   \n",
       "4                 0.0               VMC               Approach   \n",
       "...               ...               ...                    ...   \n",
       "88884             0.0               NaN                    NaN   \n",
       "88885             0.0               NaN                    NaN   \n",
       "88886             1.0               VMC                    NaN   \n",
       "88887             0.0               NaN                    NaN   \n",
       "88888             1.0               NaN                    NaN   \n",
       "\n",
       "        Report.Status Publication.Date  \n",
       "0      Probable Cause              NaN  \n",
       "1      Probable Cause       19-09-1996  \n",
       "2      Probable Cause       26-02-2007  \n",
       "3      Probable Cause       12-09-2000  \n",
       "4      Probable Cause       16-04-1980  \n",
       "...               ...              ...  \n",
       "88884             NaN       29-12-2022  \n",
       "88885             NaN              NaN  \n",
       "88886             NaN       27-12-2022  \n",
       "88887             NaN              NaN  \n",
       "88888             NaN       30-12-2022  \n",
       "\n",
       "[88889 rows x 31 columns]"
      ]
     },
     "execution_count": 3,
     "metadata": {},
     "output_type": "execute_result"
    }
   ],
   "source": [
    "#I will run the code below to create a copy by assigning the variable df1\n",
    "df1=df.copy(deep=True)\n",
    "#To confirm the copy has been upload run df1\n",
    "df1"
   ]
  },
  {
   "cell_type": "markdown",
   "id": "eeb32d66",
   "metadata": {},
   "source": [
    "## Dropping the columns"
   ]
  },
  {
   "cell_type": "markdown",
   "id": "96b08e94",
   "metadata": {},
   "source": [
    "Here I will drop some the columns that are not necessary for my analysis, to easen the analysis process"
   ]
  },
  {
   "cell_type": "code",
   "execution_count": 4,
   "id": "c803dcce",
   "metadata": {},
   "outputs": [],
   "source": [
    "#I will use the code df1.drop to drop the columns\n",
    "df1.drop([\"Event.Id\",\"Accident.Number\",\"Airport.Code\"],axis=1,inplace=True)\n",
    "#We use axis=1 when dealing with columns\n",
    "#Inplace modifies the objects without creating a new copy"
   ]
  },
  {
   "cell_type": "code",
   "execution_count": 5,
   "id": "5932b009",
   "metadata": {},
   "outputs": [
    {
     "data": {
      "text/plain": [
       "Index(['Investigation.Type', 'Event.Date', 'Location', 'Country', 'Latitude',\n",
       "       'Longitude', 'Airport.Name', 'Injury.Severity', 'Aircraft.damage',\n",
       "       'Aircraft.Category', 'Registration.Number', 'Make', 'Model',\n",
       "       'Amateur.Built', 'Number.of.Engines', 'Engine.Type', 'FAR.Description',\n",
       "       'Schedule', 'Purpose.of.flight', 'Air.carrier', 'Total.Fatal.Injuries',\n",
       "       'Total.Serious.Injuries', 'Total.Minor.Injuries', 'Total.Uninjured',\n",
       "       'Weather.Condition', 'Broad.phase.of.flight', 'Report.Status',\n",
       "       'Publication.Date'],\n",
       "      dtype='object')"
      ]
     },
     "execution_count": 5,
     "metadata": {},
     "output_type": "execute_result"
    }
   ],
   "source": [
    "#To confirm the columns have been removed I use df1.columns\n",
    "df1.columns"
   ]
  },
  {
   "cell_type": "markdown",
   "id": "57421b63",
   "metadata": {},
   "source": [
    "## Changing column format :"
   ]
  },
  {
   "cell_type": "markdown",
   "id": "4e9478ce",
   "metadata": {},
   "source": [
    "For uniformity I will change the format to title"
   ]
  },
  {
   "cell_type": "code",
   "execution_count": 6,
   "id": "642397d9",
   "metadata": {},
   "outputs": [
    {
     "data": {
      "text/plain": [
       "Index(['Investigation.Type', 'Event.Date', 'Location', 'Country', 'Latitude',\n",
       "       'Longitude', 'Airport.Name', 'Injury.Severity', 'Aircraft.Damage',\n",
       "       'Aircraft.Category', 'Registration.Number', 'Make', 'Model',\n",
       "       'Amateur.Built', 'Number.Of.Engines', 'Engine.Type', 'Far.Description',\n",
       "       'Schedule', 'Purpose.Of.Flight', 'Air.Carrier', 'Total.Fatal.Injuries',\n",
       "       'Total.Serious.Injuries', 'Total.Minor.Injuries', 'Total.Uninjured',\n",
       "       'Weather.Condition', 'Broad.Phase.Of.Flight', 'Report.Status',\n",
       "       'Publication.Date'],\n",
       "      dtype='object')"
      ]
     },
     "execution_count": 6,
     "metadata": {},
     "output_type": "execute_result"
    }
   ],
   "source": [
    "#I will use the code below to change the column format to title we assign df1.columns as a variable and use the .title() \n",
    "df1.columns=df1.columns.str.title()\n",
    "#I will run the code df1.columns to confirm the change\n",
    "df1.columns"
   ]
  },
  {
   "cell_type": "markdown",
   "id": "77a271dc",
   "metadata": {},
   "source": [
    "In our dataset we notice the punctuation is incorrect we will replace the fullstops(.) with whitespaces(\" \")"
   ]
  },
  {
   "cell_type": "code",
   "execution_count": 7,
   "id": "e12eca23",
   "metadata": {},
   "outputs": [
    {
     "data": {
      "text/plain": [
       "Index(['Investigation Type', 'Event Date', 'Location', 'Country', 'Latitude',\n",
       "       'Longitude', 'Airport Name', 'Injury Severity', 'Aircraft Damage',\n",
       "       'Aircraft Category', 'Registration Number', 'Make', 'Model',\n",
       "       'Amateur Built', 'Number Of Engines', 'Engine Type', 'Far Description',\n",
       "       'Schedule', 'Purpose Of Flight', 'Air Carrier', 'Total Fatal Injuries',\n",
       "       'Total Serious Injuries', 'Total Minor Injuries', 'Total Uninjured',\n",
       "       'Weather Condition', 'Broad Phase Of Flight', 'Report Status',\n",
       "       'Publication Date'],\n",
       "      dtype='object')"
      ]
     },
     "execution_count": 7,
     "metadata": {},
     "output_type": "execute_result"
    }
   ],
   "source": [
    "#To replace the fullstops(.) with whitespaces(\" \") we run the code below\n",
    "df1.columns=df1.columns.str.replace(\".\",\" \")\n",
    "#Use df1.columns to confirm changes\n",
    "df1.columns"
   ]
  },
  {
   "cell_type": "markdown",
   "id": "790fe287",
   "metadata": {},
   "source": [
    "## Checking for missing values:"
   ]
  },
  {
   "cell_type": "markdown",
   "id": "051bb9a5",
   "metadata": {},
   "source": [
    "We need to check for any missing values and rectify them to avoid problems during analysis. We do this by running the codes below:"
   ]
  },
  {
   "cell_type": "code",
   "execution_count": 8,
   "id": "a871cd1f",
   "metadata": {},
   "outputs": [
    {
     "data": {
      "text/plain": [
       "True"
      ]
     },
     "execution_count": 8,
     "metadata": {},
     "output_type": "execute_result"
    }
   ],
   "source": [
    "#Checking for missing values for the entire dataset we use the .isnull().sum().any()\n",
    "df1.isnull().sum().any()\n",
    "#If the result is true it indicates that there are missing values from the data set\n",
    "#However if it indicates false it means the dataset lacks missing values"
   ]
  },
  {
   "cell_type": "markdown",
   "id": "f90eb5f8",
   "metadata": {},
   "source": [
    "For our case the dataset has missing values and hence we can check the number of missing values in each column by running the code below"
   ]
  },
  {
   "cell_type": "code",
   "execution_count": 9,
   "id": "ad98f141",
   "metadata": {
    "scrolled": true
   },
   "outputs": [
    {
     "data": {
      "text/plain": [
       "Investigation Type            0\n",
       "Event Date                    0\n",
       "Location                     52\n",
       "Country                     226\n",
       "Latitude                  54507\n",
       "Longitude                 54516\n",
       "Airport Name              36185\n",
       "Injury Severity            1000\n",
       "Aircraft Damage            3194\n",
       "Aircraft Category         56602\n",
       "Registration Number        1382\n",
       "Make                         63\n",
       "Model                        92\n",
       "Amateur Built               102\n",
       "Number Of Engines          6084\n",
       "Engine Type                7096\n",
       "Far Description           56866\n",
       "Schedule                  76307\n",
       "Purpose Of Flight          6192\n",
       "Air Carrier               72241\n",
       "Total Fatal Injuries      11401\n",
       "Total Serious Injuries    12510\n",
       "Total Minor Injuries      11933\n",
       "Total Uninjured            5912\n",
       "Weather Condition          4492\n",
       "Broad Phase Of Flight     27165\n",
       "Report Status              6384\n",
       "Publication Date          13771\n",
       "dtype: int64"
      ]
     },
     "execution_count": 9,
     "metadata": {},
     "output_type": "execute_result"
    }
   ],
   "source": [
    "#checking for missing vaues for each columns we use .isna().sum()\n",
    "df1.isna().sum()"
   ]
  },
  {
   "cell_type": "markdown",
   "id": "ee9f092c",
   "metadata": {},
   "source": [
    "In our case we have a lot of missing values. We can rectify the missing values for numerical values filling in statistical measures such mean, mode or median"
   ]
  },
  {
   "cell_type": "markdown",
   "id": "2d223eaa",
   "metadata": {},
   "source": [
    "We start by checking the skewness of the numerical information by plotting a histogram or kdeplot"
   ]
  },
  {
   "cell_type": "code",
   "execution_count": 10,
   "id": "605a7519",
   "metadata": {},
   "outputs": [
    {
     "data": {
      "image/png": "[encoded data removed]",
      "text/plain": [
       "<Figure size 1000x1000 with 6 Axes>"
      ]
     },
     "metadata": {},
     "output_type": "display_data"
    }
   ],
   "source": [
    "#plotting the histogram \n",
    "df1.hist(bins=15,figsize=(10,10));"
   ]
  },
  {
   "cell_type": "markdown",
   "id": "dab08e1b",
   "metadata": {},
   "source": [
    "Since the plots show the distribution is positively skewed(right skewed) mode will be the most appropriate method to use, as it indicates the most frequent value."
   ]
  },
  {
   "cell_type": "code",
   "execution_count": 11,
   "id": "ab581de6",
   "metadata": {},
   "outputs": [],
   "source": [
    "#To input the missing values for all numeric data we will use for loop for easier manipulation:\n",
    "for column in df1.select_dtypes(include=[\"number\"]).columns:\n",
    "        df1[column].fillna(df1[column].mode()[0],inplace=True)"
   ]
  },
  {
   "cell_type": "code",
   "execution_count": 12,
   "id": "7f4cb011",
   "metadata": {},
   "outputs": [
    {
     "data": {
      "text/plain": [
       "Investigation Type            0\n",
       "Event Date                    0\n",
       "Location                     52\n",
       "Country                     226\n",
       "Latitude                  54507\n",
       "Longitude                 54516\n",
       "Airport Name              36185\n",
       "Injury Severity            1000\n",
       "Aircraft Damage            3194\n",
       "Aircraft Category         56602\n",
       "Registration Number        1382\n",
       "Make                         63\n",
       "Model                        92\n",
       "Amateur Built               102\n",
       "Number Of Engines             0\n",
       "Engine Type                7096\n",
       "Far Description           56866\n",
       "Schedule                  76307\n",
       "Purpose Of Flight          6192\n",
       "Air Carrier               72241\n",
       "Total Fatal Injuries          0\n",
       "Total Serious Injuries        0\n",
       "Total Minor Injuries          0\n",
       "Total Uninjured               0\n",
       "Weather Condition          4492\n",
       "Broad Phase Of Flight     27165\n",
       "Report Status              6384\n",
       "Publication Date          13771\n",
       "dtype: int64"
      ]
     },
     "execution_count": 12,
     "metadata": {},
     "output_type": "execute_result"
    }
   ],
   "source": [
    "#To confirm that all numeric values lack missing data we will run\n",
    "df1.isna().sum()"
   ]
  },
  {
   "cell_type": "markdown",
   "id": "cc95c47a",
   "metadata": {},
   "source": [
    "Confirmed that all numeric missing values have been cartered for. Hence will proceed by filling object category by inputing the word (\"unknown\")"
   ]
  },
  {
   "cell_type": "code",
   "execution_count": 13,
   "id": "7827c42d",
   "metadata": {},
   "outputs": [],
   "source": [
    "#We also run the code using for loop\n",
    "for column in df1.select_dtypes(include=[\"object\"]).columns:\n",
    "    df1[column].fillna(\"Unknown\",inplace=True)"
   ]
  },
  {
   "cell_type": "code",
   "execution_count": 14,
   "id": "110e6143",
   "metadata": {},
   "outputs": [
    {
     "data": {
      "text/plain": [
       "False"
      ]
     },
     "execution_count": 14,
     "metadata": {},
     "output_type": "execute_result"
    }
   ],
   "source": [
    "#for confirmation that all missing values have been erased for the entire dataset\n",
    "df1.isnull().sum().any()"
   ]
  },
  {
   "cell_type": "code",
   "execution_count": 15,
   "id": "9ff3a966",
   "metadata": {},
   "outputs": [
    {
     "data": {
      "text/html": [
       "<div>\n",
       "<style scoped>\n",
       "    .dataframe tbody tr th:only-of-type {\n",
       "        vertical-align: middle;\n",
       "    }\n",
       "\n",
       "    .dataframe tbody tr th {\n",
       "        vertical-align: top;\n",
       "    }\n",
       "\n",
       "    .dataframe thead th {\n",
       "        text-align: right;\n",
       "    }\n",
       "</style>\n",
       "<table border=\"1\" class=\"dataframe\">\n",
       "  <thead>\n",
       "    <tr style=\"text-align: right;\">\n",
       "      <th></th>\n",
       "      <th>Investigation Type</th>\n",
       "      <th>Event Date</th>\n",
       "      <th>Location</th>\n",
       "      <th>Country</th>\n",
       "      <th>Latitude</th>\n",
       "      <th>Longitude</th>\n",
       "      <th>Airport Name</th>\n",
       "      <th>Injury Severity</th>\n",
       "      <th>Aircraft Damage</th>\n",
       "      <th>Aircraft Category</th>\n",
       "      <th>...</th>\n",
       "      <th>Purpose Of Flight</th>\n",
       "      <th>Air Carrier</th>\n",
       "      <th>Total Fatal Injuries</th>\n",
       "      <th>Total Serious Injuries</th>\n",
       "      <th>Total Minor Injuries</th>\n",
       "      <th>Total Uninjured</th>\n",
       "      <th>Weather Condition</th>\n",
       "      <th>Broad Phase Of Flight</th>\n",
       "      <th>Report Status</th>\n",
       "      <th>Publication Date</th>\n",
       "    </tr>\n",
       "  </thead>\n",
       "  <tbody>\n",
       "    <tr>\n",
       "      <th>0</th>\n",
       "      <td>Accident</td>\n",
       "      <td>1948-10-24</td>\n",
       "      <td>MOOSE CREEK, ID</td>\n",
       "      <td>United States</td>\n",
       "      <td>Unknown</td>\n",
       "      <td>Unknown</td>\n",
       "      <td>Unknown</td>\n",
       "      <td>Fatal(2)</td>\n",
       "      <td>Destroyed</td>\n",
       "      <td>Unknown</td>\n",
       "      <td>...</td>\n",
       "      <td>Personal</td>\n",
       "      <td>Unknown</td>\n",
       "      <td>2.0</td>\n",
       "      <td>0.0</td>\n",
       "      <td>0.0</td>\n",
       "      <td>0.0</td>\n",
       "      <td>UNK</td>\n",
       "      <td>Cruise</td>\n",
       "      <td>Probable Cause</td>\n",
       "      <td>Unknown</td>\n",
       "    </tr>\n",
       "    <tr>\n",
       "      <th>1</th>\n",
       "      <td>Accident</td>\n",
       "      <td>1962-07-19</td>\n",
       "      <td>BRIDGEPORT, CA</td>\n",
       "      <td>United States</td>\n",
       "      <td>Unknown</td>\n",
       "      <td>Unknown</td>\n",
       "      <td>Unknown</td>\n",
       "      <td>Fatal(4)</td>\n",
       "      <td>Destroyed</td>\n",
       "      <td>Unknown</td>\n",
       "      <td>...</td>\n",
       "      <td>Personal</td>\n",
       "      <td>Unknown</td>\n",
       "      <td>4.0</td>\n",
       "      <td>0.0</td>\n",
       "      <td>0.0</td>\n",
       "      <td>0.0</td>\n",
       "      <td>UNK</td>\n",
       "      <td>Unknown</td>\n",
       "      <td>Probable Cause</td>\n",
       "      <td>19-09-1996</td>\n",
       "    </tr>\n",
       "    <tr>\n",
       "      <th>2</th>\n",
       "      <td>Accident</td>\n",
       "      <td>1974-08-30</td>\n",
       "      <td>Saltville, VA</td>\n",
       "      <td>United States</td>\n",
       "      <td>36.922223</td>\n",
       "      <td>-81.878056</td>\n",
       "      <td>Unknown</td>\n",
       "      <td>Fatal(3)</td>\n",
       "      <td>Destroyed</td>\n",
       "      <td>Unknown</td>\n",
       "      <td>...</td>\n",
       "      <td>Personal</td>\n",
       "      <td>Unknown</td>\n",
       "      <td>3.0</td>\n",
       "      <td>0.0</td>\n",
       "      <td>0.0</td>\n",
       "      <td>0.0</td>\n",
       "      <td>IMC</td>\n",
       "      <td>Cruise</td>\n",
       "      <td>Probable Cause</td>\n",
       "      <td>26-02-2007</td>\n",
       "    </tr>\n",
       "    <tr>\n",
       "      <th>3</th>\n",
       "      <td>Accident</td>\n",
       "      <td>1977-06-19</td>\n",
       "      <td>EUREKA, CA</td>\n",
       "      <td>United States</td>\n",
       "      <td>Unknown</td>\n",
       "      <td>Unknown</td>\n",
       "      <td>Unknown</td>\n",
       "      <td>Fatal(2)</td>\n",
       "      <td>Destroyed</td>\n",
       "      <td>Unknown</td>\n",
       "      <td>...</td>\n",
       "      <td>Personal</td>\n",
       "      <td>Unknown</td>\n",
       "      <td>2.0</td>\n",
       "      <td>0.0</td>\n",
       "      <td>0.0</td>\n",
       "      <td>0.0</td>\n",
       "      <td>IMC</td>\n",
       "      <td>Cruise</td>\n",
       "      <td>Probable Cause</td>\n",
       "      <td>12-09-2000</td>\n",
       "    </tr>\n",
       "    <tr>\n",
       "      <th>4</th>\n",
       "      <td>Accident</td>\n",
       "      <td>1979-08-02</td>\n",
       "      <td>Canton, OH</td>\n",
       "      <td>United States</td>\n",
       "      <td>Unknown</td>\n",
       "      <td>Unknown</td>\n",
       "      <td>Unknown</td>\n",
       "      <td>Fatal(1)</td>\n",
       "      <td>Destroyed</td>\n",
       "      <td>Unknown</td>\n",
       "      <td>...</td>\n",
       "      <td>Personal</td>\n",
       "      <td>Unknown</td>\n",
       "      <td>1.0</td>\n",
       "      <td>2.0</td>\n",
       "      <td>0.0</td>\n",
       "      <td>0.0</td>\n",
       "      <td>VMC</td>\n",
       "      <td>Approach</td>\n",
       "      <td>Probable Cause</td>\n",
       "      <td>16-04-1980</td>\n",
       "    </tr>\n",
       "    <tr>\n",
       "      <th>...</th>\n",
       "      <td>...</td>\n",
       "      <td>...</td>\n",
       "      <td>...</td>\n",
       "      <td>...</td>\n",
       "      <td>...</td>\n",
       "      <td>...</td>\n",
       "      <td>...</td>\n",
       "      <td>...</td>\n",
       "      <td>...</td>\n",
       "      <td>...</td>\n",
       "      <td>...</td>\n",
       "      <td>...</td>\n",
       "      <td>...</td>\n",
       "      <td>...</td>\n",
       "      <td>...</td>\n",
       "      <td>...</td>\n",
       "      <td>...</td>\n",
       "      <td>...</td>\n",
       "      <td>...</td>\n",
       "      <td>...</td>\n",
       "      <td>...</td>\n",
       "    </tr>\n",
       "    <tr>\n",
       "      <th>88884</th>\n",
       "      <td>Accident</td>\n",
       "      <td>2022-12-26</td>\n",
       "      <td>Annapolis, MD</td>\n",
       "      <td>United States</td>\n",
       "      <td>Unknown</td>\n",
       "      <td>Unknown</td>\n",
       "      <td>Unknown</td>\n",
       "      <td>Minor</td>\n",
       "      <td>Unknown</td>\n",
       "      <td>Unknown</td>\n",
       "      <td>...</td>\n",
       "      <td>Personal</td>\n",
       "      <td>Unknown</td>\n",
       "      <td>0.0</td>\n",
       "      <td>1.0</td>\n",
       "      <td>0.0</td>\n",
       "      <td>0.0</td>\n",
       "      <td>Unknown</td>\n",
       "      <td>Unknown</td>\n",
       "      <td>Unknown</td>\n",
       "      <td>29-12-2022</td>\n",
       "    </tr>\n",
       "    <tr>\n",
       "      <th>88885</th>\n",
       "      <td>Accident</td>\n",
       "      <td>2022-12-26</td>\n",
       "      <td>Hampton, NH</td>\n",
       "      <td>United States</td>\n",
       "      <td>Unknown</td>\n",
       "      <td>Unknown</td>\n",
       "      <td>Unknown</td>\n",
       "      <td>Unknown</td>\n",
       "      <td>Unknown</td>\n",
       "      <td>Unknown</td>\n",
       "      <td>...</td>\n",
       "      <td>Unknown</td>\n",
       "      <td>Unknown</td>\n",
       "      <td>0.0</td>\n",
       "      <td>0.0</td>\n",
       "      <td>0.0</td>\n",
       "      <td>0.0</td>\n",
       "      <td>Unknown</td>\n",
       "      <td>Unknown</td>\n",
       "      <td>Unknown</td>\n",
       "      <td>Unknown</td>\n",
       "    </tr>\n",
       "    <tr>\n",
       "      <th>88886</th>\n",
       "      <td>Accident</td>\n",
       "      <td>2022-12-26</td>\n",
       "      <td>Payson, AZ</td>\n",
       "      <td>United States</td>\n",
       "      <td>341525N</td>\n",
       "      <td>1112021W</td>\n",
       "      <td>PAYSON</td>\n",
       "      <td>Non-Fatal</td>\n",
       "      <td>Substantial</td>\n",
       "      <td>Airplane</td>\n",
       "      <td>...</td>\n",
       "      <td>Personal</td>\n",
       "      <td>Unknown</td>\n",
       "      <td>0.0</td>\n",
       "      <td>0.0</td>\n",
       "      <td>0.0</td>\n",
       "      <td>1.0</td>\n",
       "      <td>VMC</td>\n",
       "      <td>Unknown</td>\n",
       "      <td>Unknown</td>\n",
       "      <td>27-12-2022</td>\n",
       "    </tr>\n",
       "    <tr>\n",
       "      <th>88887</th>\n",
       "      <td>Accident</td>\n",
       "      <td>2022-12-26</td>\n",
       "      <td>Morgan, UT</td>\n",
       "      <td>United States</td>\n",
       "      <td>Unknown</td>\n",
       "      <td>Unknown</td>\n",
       "      <td>Unknown</td>\n",
       "      <td>Unknown</td>\n",
       "      <td>Unknown</td>\n",
       "      <td>Unknown</td>\n",
       "      <td>...</td>\n",
       "      <td>Personal</td>\n",
       "      <td>MC CESSNA 210N LLC</td>\n",
       "      <td>0.0</td>\n",
       "      <td>0.0</td>\n",
       "      <td>0.0</td>\n",
       "      <td>0.0</td>\n",
       "      <td>Unknown</td>\n",
       "      <td>Unknown</td>\n",
       "      <td>Unknown</td>\n",
       "      <td>Unknown</td>\n",
       "    </tr>\n",
       "    <tr>\n",
       "      <th>88888</th>\n",
       "      <td>Accident</td>\n",
       "      <td>2022-12-29</td>\n",
       "      <td>Athens, GA</td>\n",
       "      <td>United States</td>\n",
       "      <td>Unknown</td>\n",
       "      <td>Unknown</td>\n",
       "      <td>Unknown</td>\n",
       "      <td>Minor</td>\n",
       "      <td>Unknown</td>\n",
       "      <td>Unknown</td>\n",
       "      <td>...</td>\n",
       "      <td>Personal</td>\n",
       "      <td>Unknown</td>\n",
       "      <td>0.0</td>\n",
       "      <td>1.0</td>\n",
       "      <td>0.0</td>\n",
       "      <td>1.0</td>\n",
       "      <td>Unknown</td>\n",
       "      <td>Unknown</td>\n",
       "      <td>Unknown</td>\n",
       "      <td>30-12-2022</td>\n",
       "    </tr>\n",
       "  </tbody>\n",
       "</table>\n",
       "<p>88889 rows × 28 columns</p>\n",
       "</div>"
      ],
      "text/plain": [
       "      Investigation Type  Event Date         Location        Country  \\\n",
       "0               Accident  1948-10-24  MOOSE CREEK, ID  United States   \n",
       "1               Accident  1962-07-19   BRIDGEPORT, CA  United States   \n",
       "2               Accident  1974-08-30    Saltville, VA  United States   \n",
       "3               Accident  1977-06-19       EUREKA, CA  United States   \n",
       "4               Accident  1979-08-02       Canton, OH  United States   \n",
       "...                  ...         ...              ...            ...   \n",
       "88884           Accident  2022-12-26    Annapolis, MD  United States   \n",
       "88885           Accident  2022-12-26      Hampton, NH  United States   \n",
       "88886           Accident  2022-12-26       Payson, AZ  United States   \n",
       "88887           Accident  2022-12-26       Morgan, UT  United States   \n",
       "88888           Accident  2022-12-29       Athens, GA  United States   \n",
       "\n",
       "        Latitude  Longitude Airport Name Injury Severity Aircraft Damage  \\\n",
       "0        Unknown    Unknown      Unknown        Fatal(2)       Destroyed   \n",
       "1        Unknown    Unknown      Unknown        Fatal(4)       Destroyed   \n",
       "2      36.922223 -81.878056      Unknown        Fatal(3)       Destroyed   \n",
       "3        Unknown    Unknown      Unknown        Fatal(2)       Destroyed   \n",
       "4        Unknown    Unknown      Unknown        Fatal(1)       Destroyed   \n",
       "...          ...        ...          ...             ...             ...   \n",
       "88884    Unknown    Unknown      Unknown           Minor         Unknown   \n",
       "88885    Unknown    Unknown      Unknown         Unknown         Unknown   \n",
       "88886    341525N   1112021W       PAYSON       Non-Fatal     Substantial   \n",
       "88887    Unknown    Unknown      Unknown         Unknown         Unknown   \n",
       "88888    Unknown    Unknown      Unknown           Minor         Unknown   \n",
       "\n",
       "      Aircraft Category  ... Purpose Of Flight         Air Carrier  \\\n",
       "0               Unknown  ...          Personal             Unknown   \n",
       "1               Unknown  ...          Personal             Unknown   \n",
       "2               Unknown  ...          Personal             Unknown   \n",
       "3               Unknown  ...          Personal             Unknown   \n",
       "4               Unknown  ...          Personal             Unknown   \n",
       "...                 ...  ...               ...                 ...   \n",
       "88884           Unknown  ...          Personal             Unknown   \n",
       "88885           Unknown  ...           Unknown             Unknown   \n",
       "88886          Airplane  ...          Personal             Unknown   \n",
       "88887           Unknown  ...          Personal  MC CESSNA 210N LLC   \n",
       "88888           Unknown  ...          Personal             Unknown   \n",
       "\n",
       "      Total Fatal Injuries Total Serious Injuries  Total Minor Injuries  \\\n",
       "0                      2.0                    0.0                   0.0   \n",
       "1                      4.0                    0.0                   0.0   \n",
       "2                      3.0                    0.0                   0.0   \n",
       "3                      2.0                    0.0                   0.0   \n",
       "4                      1.0                    2.0                   0.0   \n",
       "...                    ...                    ...                   ...   \n",
       "88884                  0.0                    1.0                   0.0   \n",
       "88885                  0.0                    0.0                   0.0   \n",
       "88886                  0.0                    0.0                   0.0   \n",
       "88887                  0.0                    0.0                   0.0   \n",
       "88888                  0.0                    1.0                   0.0   \n",
       "\n",
       "      Total Uninjured Weather Condition Broad Phase Of Flight   Report Status  \\\n",
       "0                 0.0               UNK                Cruise  Probable Cause   \n",
       "1                 0.0               UNK               Unknown  Probable Cause   \n",
       "2                 0.0               IMC                Cruise  Probable Cause   \n",
       "3                 0.0               IMC                Cruise  Probable Cause   \n",
       "4                 0.0               VMC              Approach  Probable Cause   \n",
       "...               ...               ...                   ...             ...   \n",
       "88884             0.0           Unknown               Unknown         Unknown   \n",
       "88885             0.0           Unknown               Unknown         Unknown   \n",
       "88886             1.0               VMC               Unknown         Unknown   \n",
       "88887             0.0           Unknown               Unknown         Unknown   \n",
       "88888             1.0           Unknown               Unknown         Unknown   \n",
       "\n",
       "      Publication Date  \n",
       "0              Unknown  \n",
       "1           19-09-1996  \n",
       "2           26-02-2007  \n",
       "3           12-09-2000  \n",
       "4           16-04-1980  \n",
       "...                ...  \n",
       "88884       29-12-2022  \n",
       "88885          Unknown  \n",
       "88886       27-12-2022  \n",
       "88887          Unknown  \n",
       "88888       30-12-2022  \n",
       "\n",
       "[88889 rows x 28 columns]"
      ]
     },
     "execution_count": 15,
     "metadata": {},
     "output_type": "execute_result"
    }
   ],
   "source": [
    "df1"
   ]
  },
  {
   "cell_type": "markdown",
   "id": "86074213",
   "metadata": {},
   "source": [
    "The result will confirm that all the missing values have been rectified"
   ]
  },
  {
   "cell_type": "markdown",
   "id": "742da5c4",
   "metadata": {},
   "source": [
    "## Checking for duplicates"
   ]
  },
  {
   "cell_type": "markdown",
   "id": "2ba08dd5",
   "metadata": {},
   "source": [
    "We can check for the duplicated values by running the code below:"
   ]
  },
  {
   "cell_type": "code",
   "execution_count": 16,
   "id": "a441035e",
   "metadata": {},
   "outputs": [
    {
     "data": {
      "text/plain": [
       "0"
      ]
     },
     "execution_count": 16,
     "metadata": {},
     "output_type": "execute_result"
    }
   ],
   "source": [
    "#We will use .duplicated().sum()\n",
    "df1.duplicated().sum()"
   ]
  },
  {
   "cell_type": "markdown",
   "id": "0b13a12f",
   "metadata": {},
   "source": [
    "The result is (0) meaning the dataset is free of any duplicated value."
   ]
  },
  {
   "cell_type": "markdown",
   "id": "a82778db",
   "metadata": {},
   "source": [
    "## Checking for outliers"
   ]
  },
  {
   "cell_type": "markdown",
   "id": "459f403d",
   "metadata": {},
   "source": [
    "To check for outliers will start by plotting a boxplot"
   ]
  },
  {
   "cell_type": "code",
   "execution_count": 17,
   "id": "7c6f64c2",
   "metadata": {},
   "outputs": [
    {
     "data": {
      "text/plain": [
       "<Axes: >"
      ]
     },
     "execution_count": 17,
     "metadata": {},
     "output_type": "execute_result"
    },
    {
     "data": {
      "image/png": "[encoded data removed]",
      "text/plain": [
       "<Figure size 640x480 with 1 Axes>"
      ]
     },
     "metadata": {},
     "output_type": "display_data"
    }
   ],
   "source": [
    "#we will use the seaborn library to plot\n",
    "sns.boxplot(df1)"
   ]
  },
  {
   "cell_type": "markdown",
   "id": "900b2c5e",
   "metadata": {},
   "source": [
    "It is evident that the numeric values have a few outliers we will Inter-quantile Range(IQR) to remove the outliers"
   ]
  },
  {
   "cell_type": "code",
   "execution_count": 18,
   "id": "4cee13fb",
   "metadata": {},
   "outputs": [],
   "source": [
    "# Select only numeric columns from the dataframe\n",
    "numeric_columns = df1.select_dtypes(include=['number']).columns\n",
    "\n",
    "# Calculate Q1, Q3, and IQR for numeric columns\n",
    "Q1 = df1[numeric_columns].quantile(0.25)\n",
    "Q3 = df1[numeric_columns].quantile(0.75)\n",
    "IQR = Q3 - Q1\n",
    "\n",
    "# Define the lower and upper bounds for outlier removal\n",
    "lower_bound = Q1 - 1.5 * IQR\n",
    "upper_bound = Q3 + 1.5 * IQR\n",
    "\n",
    "# Filter the data by keeping only values within the IQR bounds\n",
    "df_no_outliers = df1[(df1[numeric_columns] >= lower_bound) & (df1[numeric_columns] <= upper_bound)]\n",
    "\n",
    "df_no_outliers = df_no_outliers.dropna()\n"
   ]
  },
  {
   "cell_type": "code",
   "execution_count": 19,
   "id": "c2b8f9af",
   "metadata": {
    "scrolled": true
   },
   "outputs": [
    {
     "data": {
      "text/html": [
       "<div>\n",
       "<style scoped>\n",
       "    .dataframe tbody tr th:only-of-type {\n",
       "        vertical-align: middle;\n",
       "    }\n",
       "\n",
       "    .dataframe tbody tr th {\n",
       "        vertical-align: top;\n",
       "    }\n",
       "\n",
       "    .dataframe thead th {\n",
       "        text-align: right;\n",
       "    }\n",
       "</style>\n",
       "<table border=\"1\" class=\"dataframe\">\n",
       "  <thead>\n",
       "    <tr style=\"text-align: right;\">\n",
       "      <th></th>\n",
       "      <th>Investigation Type</th>\n",
       "      <th>Event Date</th>\n",
       "      <th>Location</th>\n",
       "      <th>Country</th>\n",
       "      <th>Latitude</th>\n",
       "      <th>Longitude</th>\n",
       "      <th>Airport Name</th>\n",
       "      <th>Injury Severity</th>\n",
       "      <th>Aircraft Damage</th>\n",
       "      <th>Aircraft Category</th>\n",
       "      <th>...</th>\n",
       "      <th>Purpose Of Flight</th>\n",
       "      <th>Air Carrier</th>\n",
       "      <th>Total Fatal Injuries</th>\n",
       "      <th>Total Serious Injuries</th>\n",
       "      <th>Total Minor Injuries</th>\n",
       "      <th>Total Uninjured</th>\n",
       "      <th>Weather Condition</th>\n",
       "      <th>Broad Phase Of Flight</th>\n",
       "      <th>Report Status</th>\n",
       "      <th>Publication Date</th>\n",
       "    </tr>\n",
       "  </thead>\n",
       "  <tbody>\n",
       "    <tr>\n",
       "      <th>0</th>\n",
       "      <td>Accident</td>\n",
       "      <td>1948-10-24</td>\n",
       "      <td>MOOSE CREEK, ID</td>\n",
       "      <td>United States</td>\n",
       "      <td>Unknown</td>\n",
       "      <td>Unknown</td>\n",
       "      <td>Unknown</td>\n",
       "      <td>Fatal(2)</td>\n",
       "      <td>Destroyed</td>\n",
       "      <td>Unknown</td>\n",
       "      <td>...</td>\n",
       "      <td>Personal</td>\n",
       "      <td>Unknown</td>\n",
       "      <td>2.0</td>\n",
       "      <td>0.0</td>\n",
       "      <td>0.0</td>\n",
       "      <td>0.0</td>\n",
       "      <td>UNK</td>\n",
       "      <td>Cruise</td>\n",
       "      <td>Probable Cause</td>\n",
       "      <td>Unknown</td>\n",
       "    </tr>\n",
       "    <tr>\n",
       "      <th>1</th>\n",
       "      <td>Accident</td>\n",
       "      <td>1962-07-19</td>\n",
       "      <td>BRIDGEPORT, CA</td>\n",
       "      <td>United States</td>\n",
       "      <td>Unknown</td>\n",
       "      <td>Unknown</td>\n",
       "      <td>Unknown</td>\n",
       "      <td>Fatal(4)</td>\n",
       "      <td>Destroyed</td>\n",
       "      <td>Unknown</td>\n",
       "      <td>...</td>\n",
       "      <td>Personal</td>\n",
       "      <td>Unknown</td>\n",
       "      <td>4.0</td>\n",
       "      <td>0.0</td>\n",
       "      <td>0.0</td>\n",
       "      <td>0.0</td>\n",
       "      <td>UNK</td>\n",
       "      <td>Unknown</td>\n",
       "      <td>Probable Cause</td>\n",
       "      <td>19-09-1996</td>\n",
       "    </tr>\n",
       "    <tr>\n",
       "      <th>2</th>\n",
       "      <td>Accident</td>\n",
       "      <td>1974-08-30</td>\n",
       "      <td>Saltville, VA</td>\n",
       "      <td>United States</td>\n",
       "      <td>36.922223</td>\n",
       "      <td>-81.878056</td>\n",
       "      <td>Unknown</td>\n",
       "      <td>Fatal(3)</td>\n",
       "      <td>Destroyed</td>\n",
       "      <td>Unknown</td>\n",
       "      <td>...</td>\n",
       "      <td>Personal</td>\n",
       "      <td>Unknown</td>\n",
       "      <td>3.0</td>\n",
       "      <td>0.0</td>\n",
       "      <td>0.0</td>\n",
       "      <td>0.0</td>\n",
       "      <td>IMC</td>\n",
       "      <td>Cruise</td>\n",
       "      <td>Probable Cause</td>\n",
       "      <td>26-02-2007</td>\n",
       "    </tr>\n",
       "    <tr>\n",
       "      <th>3</th>\n",
       "      <td>Accident</td>\n",
       "      <td>1977-06-19</td>\n",
       "      <td>EUREKA, CA</td>\n",
       "      <td>United States</td>\n",
       "      <td>Unknown</td>\n",
       "      <td>Unknown</td>\n",
       "      <td>Unknown</td>\n",
       "      <td>Fatal(2)</td>\n",
       "      <td>Destroyed</td>\n",
       "      <td>Unknown</td>\n",
       "      <td>...</td>\n",
       "      <td>Personal</td>\n",
       "      <td>Unknown</td>\n",
       "      <td>2.0</td>\n",
       "      <td>0.0</td>\n",
       "      <td>0.0</td>\n",
       "      <td>0.0</td>\n",
       "      <td>IMC</td>\n",
       "      <td>Cruise</td>\n",
       "      <td>Probable Cause</td>\n",
       "      <td>12-09-2000</td>\n",
       "    </tr>\n",
       "    <tr>\n",
       "      <th>4</th>\n",
       "      <td>Accident</td>\n",
       "      <td>1979-08-02</td>\n",
       "      <td>Canton, OH</td>\n",
       "      <td>United States</td>\n",
       "      <td>Unknown</td>\n",
       "      <td>Unknown</td>\n",
       "      <td>Unknown</td>\n",
       "      <td>Fatal(1)</td>\n",
       "      <td>Destroyed</td>\n",
       "      <td>Unknown</td>\n",
       "      <td>...</td>\n",
       "      <td>Personal</td>\n",
       "      <td>Unknown</td>\n",
       "      <td>1.0</td>\n",
       "      <td>2.0</td>\n",
       "      <td>0.0</td>\n",
       "      <td>0.0</td>\n",
       "      <td>VMC</td>\n",
       "      <td>Approach</td>\n",
       "      <td>Probable Cause</td>\n",
       "      <td>16-04-1980</td>\n",
       "    </tr>\n",
       "    <tr>\n",
       "      <th>...</th>\n",
       "      <td>...</td>\n",
       "      <td>...</td>\n",
       "      <td>...</td>\n",
       "      <td>...</td>\n",
       "      <td>...</td>\n",
       "      <td>...</td>\n",
       "      <td>...</td>\n",
       "      <td>...</td>\n",
       "      <td>...</td>\n",
       "      <td>...</td>\n",
       "      <td>...</td>\n",
       "      <td>...</td>\n",
       "      <td>...</td>\n",
       "      <td>...</td>\n",
       "      <td>...</td>\n",
       "      <td>...</td>\n",
       "      <td>...</td>\n",
       "      <td>...</td>\n",
       "      <td>...</td>\n",
       "      <td>...</td>\n",
       "      <td>...</td>\n",
       "    </tr>\n",
       "    <tr>\n",
       "      <th>88884</th>\n",
       "      <td>Accident</td>\n",
       "      <td>2022-12-26</td>\n",
       "      <td>Annapolis, MD</td>\n",
       "      <td>United States</td>\n",
       "      <td>Unknown</td>\n",
       "      <td>Unknown</td>\n",
       "      <td>Unknown</td>\n",
       "      <td>Minor</td>\n",
       "      <td>Unknown</td>\n",
       "      <td>Unknown</td>\n",
       "      <td>...</td>\n",
       "      <td>Personal</td>\n",
       "      <td>Unknown</td>\n",
       "      <td>0.0</td>\n",
       "      <td>1.0</td>\n",
       "      <td>0.0</td>\n",
       "      <td>0.0</td>\n",
       "      <td>Unknown</td>\n",
       "      <td>Unknown</td>\n",
       "      <td>Unknown</td>\n",
       "      <td>29-12-2022</td>\n",
       "    </tr>\n",
       "    <tr>\n",
       "      <th>88885</th>\n",
       "      <td>Accident</td>\n",
       "      <td>2022-12-26</td>\n",
       "      <td>Hampton, NH</td>\n",
       "      <td>United States</td>\n",
       "      <td>Unknown</td>\n",
       "      <td>Unknown</td>\n",
       "      <td>Unknown</td>\n",
       "      <td>Unknown</td>\n",
       "      <td>Unknown</td>\n",
       "      <td>Unknown</td>\n",
       "      <td>...</td>\n",
       "      <td>Unknown</td>\n",
       "      <td>Unknown</td>\n",
       "      <td>0.0</td>\n",
       "      <td>0.0</td>\n",
       "      <td>0.0</td>\n",
       "      <td>0.0</td>\n",
       "      <td>Unknown</td>\n",
       "      <td>Unknown</td>\n",
       "      <td>Unknown</td>\n",
       "      <td>Unknown</td>\n",
       "    </tr>\n",
       "    <tr>\n",
       "      <th>88886</th>\n",
       "      <td>Accident</td>\n",
       "      <td>2022-12-26</td>\n",
       "      <td>Payson, AZ</td>\n",
       "      <td>United States</td>\n",
       "      <td>341525N</td>\n",
       "      <td>1112021W</td>\n",
       "      <td>PAYSON</td>\n",
       "      <td>Non-Fatal</td>\n",
       "      <td>Substantial</td>\n",
       "      <td>Airplane</td>\n",
       "      <td>...</td>\n",
       "      <td>Personal</td>\n",
       "      <td>Unknown</td>\n",
       "      <td>0.0</td>\n",
       "      <td>0.0</td>\n",
       "      <td>0.0</td>\n",
       "      <td>1.0</td>\n",
       "      <td>VMC</td>\n",
       "      <td>Unknown</td>\n",
       "      <td>Unknown</td>\n",
       "      <td>27-12-2022</td>\n",
       "    </tr>\n",
       "    <tr>\n",
       "      <th>88887</th>\n",
       "      <td>Accident</td>\n",
       "      <td>2022-12-26</td>\n",
       "      <td>Morgan, UT</td>\n",
       "      <td>United States</td>\n",
       "      <td>Unknown</td>\n",
       "      <td>Unknown</td>\n",
       "      <td>Unknown</td>\n",
       "      <td>Unknown</td>\n",
       "      <td>Unknown</td>\n",
       "      <td>Unknown</td>\n",
       "      <td>...</td>\n",
       "      <td>Personal</td>\n",
       "      <td>MC CESSNA 210N LLC</td>\n",
       "      <td>0.0</td>\n",
       "      <td>0.0</td>\n",
       "      <td>0.0</td>\n",
       "      <td>0.0</td>\n",
       "      <td>Unknown</td>\n",
       "      <td>Unknown</td>\n",
       "      <td>Unknown</td>\n",
       "      <td>Unknown</td>\n",
       "    </tr>\n",
       "    <tr>\n",
       "      <th>88888</th>\n",
       "      <td>Accident</td>\n",
       "      <td>2022-12-29</td>\n",
       "      <td>Athens, GA</td>\n",
       "      <td>United States</td>\n",
       "      <td>Unknown</td>\n",
       "      <td>Unknown</td>\n",
       "      <td>Unknown</td>\n",
       "      <td>Minor</td>\n",
       "      <td>Unknown</td>\n",
       "      <td>Unknown</td>\n",
       "      <td>...</td>\n",
       "      <td>Personal</td>\n",
       "      <td>Unknown</td>\n",
       "      <td>0.0</td>\n",
       "      <td>1.0</td>\n",
       "      <td>0.0</td>\n",
       "      <td>1.0</td>\n",
       "      <td>Unknown</td>\n",
       "      <td>Unknown</td>\n",
       "      <td>Unknown</td>\n",
       "      <td>30-12-2022</td>\n",
       "    </tr>\n",
       "  </tbody>\n",
       "</table>\n",
       "<p>88889 rows × 28 columns</p>\n",
       "</div>"
      ],
      "text/plain": [
       "      Investigation Type  Event Date         Location        Country  \\\n",
       "0               Accident  1948-10-24  MOOSE CREEK, ID  United States   \n",
       "1               Accident  1962-07-19   BRIDGEPORT, CA  United States   \n",
       "2               Accident  1974-08-30    Saltville, VA  United States   \n",
       "3               Accident  1977-06-19       EUREKA, CA  United States   \n",
       "4               Accident  1979-08-02       Canton, OH  United States   \n",
       "...                  ...         ...              ...            ...   \n",
       "88884           Accident  2022-12-26    Annapolis, MD  United States   \n",
       "88885           Accident  2022-12-26      Hampton, NH  United States   \n",
       "88886           Accident  2022-12-26       Payson, AZ  United States   \n",
       "88887           Accident  2022-12-26       Morgan, UT  United States   \n",
       "88888           Accident  2022-12-29       Athens, GA  United States   \n",
       "\n",
       "        Latitude  Longitude Airport Name Injury Severity Aircraft Damage  \\\n",
       "0        Unknown    Unknown      Unknown        Fatal(2)       Destroyed   \n",
       "1        Unknown    Unknown      Unknown        Fatal(4)       Destroyed   \n",
       "2      36.922223 -81.878056      Unknown        Fatal(3)       Destroyed   \n",
       "3        Unknown    Unknown      Unknown        Fatal(2)       Destroyed   \n",
       "4        Unknown    Unknown      Unknown        Fatal(1)       Destroyed   \n",
       "...          ...        ...          ...             ...             ...   \n",
       "88884    Unknown    Unknown      Unknown           Minor         Unknown   \n",
       "88885    Unknown    Unknown      Unknown         Unknown         Unknown   \n",
       "88886    341525N   1112021W       PAYSON       Non-Fatal     Substantial   \n",
       "88887    Unknown    Unknown      Unknown         Unknown         Unknown   \n",
       "88888    Unknown    Unknown      Unknown           Minor         Unknown   \n",
       "\n",
       "      Aircraft Category  ... Purpose Of Flight         Air Carrier  \\\n",
       "0               Unknown  ...          Personal             Unknown   \n",
       "1               Unknown  ...          Personal             Unknown   \n",
       "2               Unknown  ...          Personal             Unknown   \n",
       "3               Unknown  ...          Personal             Unknown   \n",
       "4               Unknown  ...          Personal             Unknown   \n",
       "...                 ...  ...               ...                 ...   \n",
       "88884           Unknown  ...          Personal             Unknown   \n",
       "88885           Unknown  ...           Unknown             Unknown   \n",
       "88886          Airplane  ...          Personal             Unknown   \n",
       "88887           Unknown  ...          Personal  MC CESSNA 210N LLC   \n",
       "88888           Unknown  ...          Personal             Unknown   \n",
       "\n",
       "      Total Fatal Injuries Total Serious Injuries  Total Minor Injuries  \\\n",
       "0                      2.0                    0.0                   0.0   \n",
       "1                      4.0                    0.0                   0.0   \n",
       "2                      3.0                    0.0                   0.0   \n",
       "3                      2.0                    0.0                   0.0   \n",
       "4                      1.0                    2.0                   0.0   \n",
       "...                    ...                    ...                   ...   \n",
       "88884                  0.0                    1.0                   0.0   \n",
       "88885                  0.0                    0.0                   0.0   \n",
       "88886                  0.0                    0.0                   0.0   \n",
       "88887                  0.0                    0.0                   0.0   \n",
       "88888                  0.0                    1.0                   0.0   \n",
       "\n",
       "      Total Uninjured Weather Condition Broad Phase Of Flight   Report Status  \\\n",
       "0                 0.0               UNK                Cruise  Probable Cause   \n",
       "1                 0.0               UNK               Unknown  Probable Cause   \n",
       "2                 0.0               IMC                Cruise  Probable Cause   \n",
       "3                 0.0               IMC                Cruise  Probable Cause   \n",
       "4                 0.0               VMC              Approach  Probable Cause   \n",
       "...               ...               ...                   ...             ...   \n",
       "88884             0.0           Unknown               Unknown         Unknown   \n",
       "88885             0.0           Unknown               Unknown         Unknown   \n",
       "88886             1.0               VMC               Unknown         Unknown   \n",
       "88887             0.0           Unknown               Unknown         Unknown   \n",
       "88888             1.0           Unknown               Unknown         Unknown   \n",
       "\n",
       "      Publication Date  \n",
       "0              Unknown  \n",
       "1           19-09-1996  \n",
       "2           26-02-2007  \n",
       "3           12-09-2000  \n",
       "4           16-04-1980  \n",
       "...                ...  \n",
       "88884       29-12-2022  \n",
       "88885          Unknown  \n",
       "88886       27-12-2022  \n",
       "88887          Unknown  \n",
       "88888       30-12-2022  \n",
       "\n",
       "[88889 rows x 28 columns]"
      ]
     },
     "execution_count": 19,
     "metadata": {},
     "output_type": "execute_result"
    }
   ],
   "source": [
    "df1"
   ]
  },
  {
   "cell_type": "markdown",
   "id": "755bdd52",
   "metadata": {},
   "source": [
    "## Cleaning each column being used for analysis:"
   ]
  },
  {
   "cell_type": "markdown",
   "id": "a2f4c8fd",
   "metadata": {},
   "source": [
    "Here I will be creating uniformity for each non-numeric column I will be using for my analysis to make analysis less complicated.\n",
    "For instance some objects in the same column are in upper case while others in lower case, hence I will correct that "
   ]
  },
  {
   "cell_type": "code",
   "execution_count": 20,
   "id": "84d7abfb",
   "metadata": {},
   "outputs": [
    {
     "data": {
      "text/plain": [
       "Location\n",
       "ANCHORAGE, AK       434\n",
       "MIAMI, FL           200\n",
       "ALBUQUERQUE, NM     196\n",
       "HOUSTON, TX         193\n",
       "CHICAGO, IL         184\n",
       "                   ... \n",
       "MALLARDS LDG, GA      1\n",
       "LODGEPOLE, MT         1\n",
       "VERNILLION, SD        1\n",
       "MCMECHEN, WV          1\n",
       "Brasnorte,            1\n",
       "Name: count, Length: 27758, dtype: int64"
      ]
     },
     "execution_count": 20,
     "metadata": {},
     "output_type": "execute_result"
    }
   ],
   "source": [
    "#checking uniformity in location\n",
    "df1[\"Location\"].value_counts()"
   ]
  },
  {
   "cell_type": "markdown",
   "id": "ef5f9d2b",
   "metadata": {},
   "source": [
    "The last location is missing its state name compared to the other location hence I will replace its value with Unknown"
   ]
  },
  {
   "cell_type": "code",
   "execution_count": 21,
   "id": "7c72cf25",
   "metadata": {},
   "outputs": [],
   "source": [
    "#Replacing the location value\n",
    "df1[\"Location\"]=df1[\"Location\"].replace(\"Brasnorte,\",\"Unknown\",regex=True)\n",
    "#regex is a regular expression used to replace texts"
   ]
  },
  {
   "cell_type": "code",
   "execution_count": 22,
   "id": "3f58da28",
   "metadata": {},
   "outputs": [
    {
     "data": {
      "text/plain": [
       "Location\n",
       "ANCHORAGE, AK       434\n",
       "MIAMI, FL           200\n",
       "ALBUQUERQUE, NM     196\n",
       "HOUSTON, TX         193\n",
       "CHICAGO, IL         184\n",
       "                   ... \n",
       "MALLARDS LDG, GA      1\n",
       "LODGEPOLE, MT         1\n",
       "VERNILLION, SD        1\n",
       "MCMECHEN, WV          1\n",
       "Unknown               1\n",
       "Name: count, Length: 27758, dtype: int64"
      ]
     },
     "execution_count": 22,
     "metadata": {},
     "output_type": "execute_result"
    }
   ],
   "source": [
    "#To confirm that all the changes have been made\n",
    "df1[\"Location\"].value_counts()"
   ]
  },
  {
   "cell_type": "markdown",
   "id": "d5d111c3",
   "metadata": {},
   "source": [
    "For uniformity I will change the cases to title form"
   ]
  },
  {
   "cell_type": "code",
   "execution_count": 23,
   "id": "cab45228",
   "metadata": {},
   "outputs": [],
   "source": [
    "#Changing the cases to title\n",
    "df1[\"Location\"]=df1[\"Location\"].str.title()"
   ]
  },
  {
   "cell_type": "code",
   "execution_count": 24,
   "id": "fd75f681",
   "metadata": {},
   "outputs": [
    {
     "data": {
      "text/plain": [
       "Location\n",
       "Anchorage, Ak       548\n",
       "Miami, Fl           275\n",
       "Houston, Tx         271\n",
       "Albuquerque, Nm     265\n",
       "Chicago, Il         256\n",
       "                   ... \n",
       "Medina, Mn            1\n",
       "Circle Pines, Mn      1\n",
       "Pine Island, Fl       1\n",
       "Churchtown, Oh        1\n",
       "Unknown               1\n",
       "Name: count, Length: 21978, dtype: int64"
      ]
     },
     "execution_count": 24,
     "metadata": {},
     "output_type": "execute_result"
    }
   ],
   "source": [
    "#Confirming the changes\n",
    "df1[\"Location\"].value_counts()"
   ]
  },
  {
   "cell_type": "code",
   "execution_count": 25,
   "id": "09da76c1",
   "metadata": {},
   "outputs": [
    {
     "data": {
      "text/plain": [
       "Country\n",
       "United States                       82248\n",
       "Brazil                                374\n",
       "Canada                                359\n",
       "Mexico                                358\n",
       "United Kingdom                        344\n",
       "                                    ...  \n",
       "Saint Vincent and the Grenadines        1\n",
       "Cambodia                                1\n",
       "Malampa                                 1\n",
       "AY                                      1\n",
       "Turks and Caicos Islands                1\n",
       "Name: count, Length: 219, dtype: int64"
      ]
     },
     "execution_count": 25,
     "metadata": {},
     "output_type": "execute_result"
    }
   ],
   "source": [
    "#Checking for uniformity in the country column we run the code below\n",
    "df1[\"Country\"].value_counts()"
   ]
  },
  {
   "cell_type": "markdown",
   "id": "2b3f7f3a",
   "metadata": {},
   "source": [
    "We notice that the country AY was wrongly input or is incomplete hence we replace with unknown"
   ]
  },
  {
   "cell_type": "code",
   "execution_count": 26,
   "id": "1eb4dee6",
   "metadata": {},
   "outputs": [],
   "source": [
    "#Replacing AY with Unknown\n",
    "df1[\"Country\"]=df1[\"Country\"].replace(\"AY\",\"Unknown\",regex=True)"
   ]
  },
  {
   "cell_type": "code",
   "execution_count": 27,
   "id": "56ee71fa",
   "metadata": {},
   "outputs": [
    {
     "data": {
      "text/plain": [
       "Country\n",
       "United States                       82248\n",
       "Brazil                                374\n",
       "Canada                                359\n",
       "Mexico                                358\n",
       "United Kingdom                        344\n",
       "                                    ...  \n",
       "Saint Vincent and the Grenadines        1\n",
       "Cambodia                                1\n",
       "Malampa                                 1\n",
       "Belarus                                 1\n",
       "Turks and Caicos Islands                1\n",
       "Name: count, Length: 218, dtype: int64"
      ]
     },
     "execution_count": 27,
     "metadata": {},
     "output_type": "execute_result"
    }
   ],
   "source": [
    "#Confirming the changes\n",
    "df1[\"Country\"].value_counts()"
   ]
  },
  {
   "cell_type": "code",
   "execution_count": 28,
   "id": "b3391d58",
   "metadata": {},
   "outputs": [
    {
     "data": {
      "text/plain": [
       "Airport Name\n",
       "Unknown                           36192\n",
       "Private                             240\n",
       "PRIVATE                             224\n",
       "Private Airstrip                    153\n",
       "NONE                                146\n",
       "                                  ...  \n",
       "GEORGE CAMPERT MEMORIAL               1\n",
       "WESTCHESTER COUNTY ARPT               1\n",
       "IL VALLEY PARACHUTE CLUB              1\n",
       "LAUGHLIN/BULLHEAD                     1\n",
       "WICHITA DWIGHT D EISENHOWER NT        1\n",
       "Name: count, Length: 24870, dtype: int64"
      ]
     },
     "execution_count": 28,
     "metadata": {},
     "output_type": "execute_result"
    }
   ],
   "source": [
    "#Checking uniformity for Airport Name\n",
    "df1[\"Airport Name\"].value_counts()"
   ]
  },
  {
   "cell_type": "markdown",
   "id": "1a23abf6",
   "metadata": {},
   "source": [
    "As mentioned earlier, we notice there is a repetition of the word private in upper case and title case. We will change this to title case and the Private Airstrip to Private Strip to Private as well."
   ]
  },
  {
   "cell_type": "code",
   "execution_count": 29,
   "id": "13634d92",
   "metadata": {},
   "outputs": [],
   "source": [
    "#Changing the texts to title case\n",
    "df1[\"Airport Name\"]=df1[\"Airport Name\"].str.title()"
   ]
  },
  {
   "cell_type": "code",
   "execution_count": 30,
   "id": "237bf1c7",
   "metadata": {},
   "outputs": [
    {
     "data": {
      "text/plain": [
       "Airport Name\n",
       "Unknown                           36261\n",
       "Private                             471\n",
       "Private Airstrip                    266\n",
       "Private Strip                       161\n",
       "None                                146\n",
       "                                  ...  \n",
       "Starbuck Muni                         1\n",
       "Southwest Airpark                     1\n",
       "Columbia Downtown                     1\n",
       "Laama[A;O                             1\n",
       "Wichita Dwight D Eisenhower Nt        1\n",
       "Name: count, Length: 21566, dtype: int64"
      ]
     },
     "execution_count": 30,
     "metadata": {},
     "output_type": "execute_result"
    }
   ],
   "source": [
    "#Confirming the changes\n",
    "df1[\"Airport Name\"].value_counts()"
   ]
  },
  {
   "cell_type": "code",
   "execution_count": 31,
   "id": "427d7918",
   "metadata": {},
   "outputs": [],
   "source": [
    "#Changing Private Strip, Private Airstrip to just private\n",
    "df1[\"Airport Name\"]=df1[\"Airport Name\"].replace([\"Private Strip\",\"Private Airstrip\"],\"Private\",regex=True)"
   ]
  },
  {
   "cell_type": "code",
   "execution_count": 32,
   "id": "bed2edc5",
   "metadata": {},
   "outputs": [],
   "source": [
    "#Changing None to Unknown\n",
    "df1[\"Airport Name\"]=df1[\"Airport Name\"].replace(\"None\",\"Unknown\",regex=True)"
   ]
  },
  {
   "cell_type": "code",
   "execution_count": 33,
   "id": "2a70fa48",
   "metadata": {},
   "outputs": [
    {
     "data": {
      "text/plain": [
       "Airport Name\n",
       "Unknown                           36407\n",
       "Private                             898\n",
       "Merrill Field                       109\n",
       "Centennial                          102\n",
       "Van Nuys                             97\n",
       "                                  ...  \n",
       "Roy'S Strip                           1\n",
       "Greater Wilmingon                     1\n",
       "Bell Helicopter Training              1\n",
       "Stinson Fld.                          1\n",
       "Wichita Dwight D Eisenhower Nt        1\n",
       "Name: count, Length: 21563, dtype: int64"
      ]
     },
     "execution_count": 33,
     "metadata": {},
     "output_type": "execute_result"
    }
   ],
   "source": [
    "#Confirming the changes\n",
    "df1[\"Airport Name\"].value_counts()"
   ]
  },
  {
   "cell_type": "code",
   "execution_count": 34,
   "id": "0434edaa",
   "metadata": {},
   "outputs": [
    {
     "data": {
      "text/plain": [
       "Injury Severity\n",
       "Non-Fatal     67357\n",
       "Fatal(1)       6167\n",
       "Fatal          5262\n",
       "Fatal(2)       3711\n",
       "Incident       2219\n",
       "              ...  \n",
       "Fatal(80)         1\n",
       "Fatal(217)        1\n",
       "Fatal(169)        1\n",
       "Fatal(88)         1\n",
       "Fatal(189)        1\n",
       "Name: count, Length: 110, dtype: int64"
      ]
     },
     "execution_count": 34,
     "metadata": {},
     "output_type": "execute_result"
    }
   ],
   "source": [
    "#Checking for uniformity in Injury Severity\n",
    "df1[\"Injury Severity\"].value_counts()"
   ]
  },
  {
   "cell_type": "code",
   "execution_count": 35,
   "id": "d9be52f7",
   "metadata": {},
   "outputs": [],
   "source": [
    "df1['Injury Severity'] = df1['Injury Severity'].str.replace(r'\\(.*\\)', '', regex=True)\n"
   ]
  },
  {
   "cell_type": "code",
   "execution_count": 36,
   "id": "e9b8d590",
   "metadata": {},
   "outputs": [
    {
     "data": {
      "text/plain": [
       "Injury Severity\n",
       "Non-Fatal      67357\n",
       "Fatal          17826\n",
       "Incident        2219\n",
       "Unknown         1000\n",
       "Minor            218\n",
       "Serious          173\n",
       "Unavailable       96\n",
       "Name: count, dtype: int64"
      ]
     },
     "execution_count": 36,
     "metadata": {},
     "output_type": "execute_result"
    }
   ],
   "source": [
    "df1[\"Injury Severity\"].value_counts()"
   ]
  },
  {
   "cell_type": "code",
   "execution_count": 37,
   "id": "e0b95a2e",
   "metadata": {},
   "outputs": [
    {
     "data": {
      "text/plain": [
       "Aircraft Damage\n",
       "Substantial    64148\n",
       "Destroyed      18623\n",
       "Unknown         3313\n",
       "Minor           2805\n",
       "Name: count, dtype: int64"
      ]
     },
     "execution_count": 37,
     "metadata": {},
     "output_type": "execute_result"
    }
   ],
   "source": [
    "#Checking for any uniformity in this category\n",
    "df1[\"Aircraft Damage\"].value_counts()"
   ]
  },
  {
   "cell_type": "markdown",
   "id": "6b25a41b",
   "metadata": {},
   "source": [
    "Uniformity is okay"
   ]
  },
  {
   "cell_type": "code",
   "execution_count": 38,
   "id": "d1906364",
   "metadata": {},
   "outputs": [
    {
     "data": {
      "text/plain": [
       "Make\n",
       "Cessna             22227\n",
       "Piper              12029\n",
       "CESSNA              4922\n",
       "Beech               4330\n",
       "PIPER               2841\n",
       "                   ...  \n",
       "Leonard Walters        1\n",
       "Maule Air Inc.         1\n",
       "Motley Vans            1\n",
       "Perlick                1\n",
       "ROYSE RALPH L          1\n",
       "Name: count, Length: 8237, dtype: int64"
      ]
     },
     "execution_count": 38,
     "metadata": {},
     "output_type": "execute_result"
    }
   ],
   "source": [
    "#Checking for uniformity\n",
    "df1['Make'].value_counts()"
   ]
  },
  {
   "cell_type": "markdown",
   "id": "6c0c90e5",
   "metadata": {},
   "source": [
    "We notice some texts are in upper while others in title case. I will change the texts to title case"
   ]
  },
  {
   "cell_type": "code",
   "execution_count": 39,
   "id": "5e77cbf9",
   "metadata": {},
   "outputs": [],
   "source": [
    "#Changing all the texts to title case\n",
    "df1[\"Make\"]=df1[\"Make\"].str.title()"
   ]
  },
  {
   "cell_type": "code",
   "execution_count": 40,
   "id": "d875786b",
   "metadata": {},
   "outputs": [
    {
     "data": {
      "text/plain": [
       "Make\n",
       "Cessna           27149\n",
       "Piper            14870\n",
       "Beech             5372\n",
       "Boeing            2745\n",
       "Bell              2722\n",
       "                 ...  \n",
       "Cohen                1\n",
       "Kitchens             1\n",
       "Lutes                1\n",
       "Izatt                1\n",
       "Royse Ralph L        1\n",
       "Name: count, Length: 7587, dtype: int64"
      ]
     },
     "execution_count": 40,
     "metadata": {},
     "output_type": "execute_result"
    }
   ],
   "source": [
    "#Confirming the changes\n",
    "df1['Make'].value_counts()"
   ]
  },
  {
   "cell_type": "code",
   "execution_count": 41,
   "id": "b0418a83",
   "metadata": {},
   "outputs": [
    {
     "data": {
      "text/plain": [
       "Model\n",
       "152              2367\n",
       "172              1756\n",
       "172N             1164\n",
       "PA-28-140         932\n",
       "150               829\n",
       "                 ... \n",
       "GC-1-A              1\n",
       "737-3S3             1\n",
       "MBB-BK117-B2        1\n",
       "GLASSAIR GL25       1\n",
       "M-8 EAGLE           1\n",
       "Name: count, Length: 12318, dtype: int64"
      ]
     },
     "execution_count": 41,
     "metadata": {},
     "output_type": "execute_result"
    }
   ],
   "source": [
    "#Confirm uniformity\n",
    "df1[\"Model\"].value_counts()"
   ]
  },
  {
   "cell_type": "markdown",
   "id": "2d844b70",
   "metadata": {},
   "source": [
    "No changes are required"
   ]
  },
  {
   "cell_type": "code",
   "execution_count": 42,
   "id": "f8124402",
   "metadata": {},
   "outputs": [
    {
     "data": {
      "text/plain": [
       "Engine Type\n",
       "Reciprocating      69530\n",
       "Unknown             9147\n",
       "Turbo Shaft         3609\n",
       "Turbo Prop          3391\n",
       "Turbo Fan           2481\n",
       "Turbo Jet            703\n",
       "Geared Turbofan       12\n",
       "Electric              10\n",
       "LR                     2\n",
       "NONE                   2\n",
       "Hybrid Rocket          1\n",
       "UNK                    1\n",
       "Name: count, dtype: int64"
      ]
     },
     "execution_count": 42,
     "metadata": {},
     "output_type": "execute_result"
    }
   ],
   "source": [
    "#Checking for uniformity\n",
    "df1[\"Engine Type\"].value_counts()"
   ]
  },
  {
   "cell_type": "markdown",
   "id": "b3c77a02",
   "metadata": {},
   "source": [
    "We notice some values are in upper case while others in title case. I will change all texts to title case.\n",
    "I will also replace none with unknown"
   ]
  },
  {
   "cell_type": "code",
   "execution_count": 43,
   "id": "20329772",
   "metadata": {},
   "outputs": [],
   "source": [
    "#Changing the texts to title case\n",
    "df1[\"Engine Type\"]=df1[\"Engine Type\"].str.title()"
   ]
  },
  {
   "cell_type": "code",
   "execution_count": 44,
   "id": "4e02fe07",
   "metadata": {},
   "outputs": [],
   "source": [
    "#Changing the text None to Unknown\n",
    "df1[\"Engine Type\"]=df1[\"Engine Type\"].replace(\"None\",\"Unknown\",regex=True)"
   ]
  },
  {
   "cell_type": "code",
   "execution_count": 45,
   "id": "e6046227",
   "metadata": {},
   "outputs": [
    {
     "data": {
      "text/plain": [
       "Engine Type\n",
       "Reciprocating      69530\n",
       "Unknown             9149\n",
       "Turbo Shaft         3609\n",
       "Turbo Prop          3391\n",
       "Turbo Fan           2481\n",
       "Turbo Jet            703\n",
       "Geared Turbofan       12\n",
       "Electric              10\n",
       "Lr                     2\n",
       "Hybrid Rocket          1\n",
       "Unk                    1\n",
       "Name: count, dtype: int64"
      ]
     },
     "execution_count": 45,
     "metadata": {},
     "output_type": "execute_result"
    }
   ],
   "source": [
    "#Confirming the changes\n",
    "df1[\"Engine Type\"].value_counts()"
   ]
  },
  {
   "cell_type": "code",
   "execution_count": 46,
   "id": "27bc560c",
   "metadata": {},
   "outputs": [
    {
     "data": {
      "text/plain": [
       "Purpose Of Flight\n",
       "Personal                     49448\n",
       "Unknown                      12994\n",
       "Instructional                10601\n",
       "Aerial Application            4712\n",
       "Business                      4018\n",
       "Positioning                   1646\n",
       "Other Work Use                1264\n",
       "Ferry                          812\n",
       "Aerial Observation             794\n",
       "Public Aircraft                720\n",
       "Executive/corporate            553\n",
       "Flight Test                    405\n",
       "Skydiving                      182\n",
       "External Load                  123\n",
       "Public Aircraft - Federal      105\n",
       "Banner Tow                     101\n",
       "Air Race show                   99\n",
       "Public Aircraft - Local         74\n",
       "Public Aircraft - State         64\n",
       "Air Race/show                   59\n",
       "Glider Tow                      53\n",
       "Firefighting                    40\n",
       "Air Drop                        11\n",
       "ASHO                             6\n",
       "PUBS                             4\n",
       "PUBL                             1\n",
       "Name: count, dtype: int64"
      ]
     },
     "execution_count": 46,
     "metadata": {},
     "output_type": "execute_result"
    }
   ],
   "source": [
    "#Confirming the uniformity\n",
    "df1[\"Purpose Of Flight\"].value_counts()"
   ]
  },
  {
   "cell_type": "markdown",
   "id": "ec98a0ca",
   "metadata": {},
   "source": [
    "We will change all cases to title case."
   ]
  },
  {
   "cell_type": "code",
   "execution_count": 47,
   "id": "256a3cb4",
   "metadata": {},
   "outputs": [],
   "source": [
    "#Changing the cases to title\n",
    "df1[\"Purpose Of Flight\"]=df1[\"Purpose Of Flight\"].str.title()"
   ]
  },
  {
   "cell_type": "code",
   "execution_count": 48,
   "id": "5bcd539d",
   "metadata": {},
   "outputs": [
    {
     "data": {
      "text/plain": [
       "Purpose Of Flight\n",
       "Personal                     49448\n",
       "Unknown                      12994\n",
       "Instructional                10601\n",
       "Aerial Application            4712\n",
       "Business                      4018\n",
       "Positioning                   1646\n",
       "Other Work Use                1264\n",
       "Ferry                          812\n",
       "Aerial Observation             794\n",
       "Public Aircraft                720\n",
       "Executive/Corporate            553\n",
       "Flight Test                    405\n",
       "Skydiving                      182\n",
       "External Load                  123\n",
       "Public Aircraft - Federal      105\n",
       "Banner Tow                     101\n",
       "Air Race Show                   99\n",
       "Public Aircraft - Local         74\n",
       "Public Aircraft - State         64\n",
       "Air Race/Show                   59\n",
       "Glider Tow                      53\n",
       "Firefighting                    40\n",
       "Air Drop                        11\n",
       "Asho                             6\n",
       "Pubs                             4\n",
       "Publ                             1\n",
       "Name: count, dtype: int64"
      ]
     },
     "execution_count": 48,
     "metadata": {},
     "output_type": "execute_result"
    }
   ],
   "source": [
    "#Confirming the changes\n",
    "df1[\"Purpose Of Flight\"].value_counts()"
   ]
  },
  {
   "cell_type": "code",
   "execution_count": 49,
   "id": "7fb2f0eb",
   "metadata": {},
   "outputs": [
    {
     "data": {
      "text/plain": [
       "Weather Condition\n",
       "VMC        77303\n",
       "IMC         5976\n",
       "Unknown     4492\n",
       "UNK          856\n",
       "Unk          262\n",
       "Name: count, dtype: int64"
      ]
     },
     "execution_count": 49,
     "metadata": {},
     "output_type": "execute_result"
    }
   ],
   "source": [
    "#Checking for uniformity\n",
    "df1[\"Weather Condition\"].value_counts()"
   ]
  },
  {
   "cell_type": "markdown",
   "id": "6712bfa7",
   "metadata": {},
   "source": [
    "Most cases are in upper cases perhaps they are initials because if they were to be written in full it would have bombarred the data set hence I will change to upper for all values for uniformity during analysis when dealing with this category."
   ]
  },
  {
   "cell_type": "code",
   "execution_count": 50,
   "id": "e5aa4542",
   "metadata": {},
   "outputs": [],
   "source": [
    "#Changing all cases to uppercase\n",
    "df1[\"Weather Condition\"]=df1[\"Weather Condition\"].str.upper()"
   ]
  },
  {
   "cell_type": "code",
   "execution_count": 51,
   "id": "56aafe0c",
   "metadata": {},
   "outputs": [
    {
     "data": {
      "text/plain": [
       "Weather Condition\n",
       "VMC        77303\n",
       "IMC         5976\n",
       "UNKNOWN     4492\n",
       "UNK         1118\n",
       "Name: count, dtype: int64"
      ]
     },
     "execution_count": 51,
     "metadata": {},
     "output_type": "execute_result"
    }
   ],
   "source": [
    "#Confirming the changes\n",
    "df1[\"Weather Condition\"].value_counts()"
   ]
  },
  {
   "cell_type": "code",
   "execution_count": 52,
   "id": "77716ac1",
   "metadata": {},
   "outputs": [
    {
     "data": {
      "text/plain": [
       "Air Carrier\n",
       "Unknown                      72255\n",
       "Pilot                          258\n",
       "American Airlines               90\n",
       "United Airlines                 89\n",
       "Delta Air Lines                 53\n",
       "                             ...  \n",
       "WOODY CONTRACTING INC            1\n",
       "Rod Aviation LLC                 1\n",
       "Paul D Franzon                   1\n",
       "TRAINING SERVICES INC DBA        1\n",
       "MC CESSNA 210N LLC               1\n",
       "Name: count, Length: 13590, dtype: int64"
      ]
     },
     "execution_count": 52,
     "metadata": {},
     "output_type": "execute_result"
    }
   ],
   "source": [
    "#Checking for uniformity in this category\n",
    "df1[\"Air Carrier\"].value_counts()"
   ]
  },
  {
   "cell_type": "markdown",
   "id": "9162721d",
   "metadata": {},
   "source": [
    "We will change it to title case for uniformity"
   ]
  },
  {
   "cell_type": "code",
   "execution_count": 53,
   "id": "fec1f903",
   "metadata": {},
   "outputs": [],
   "source": [
    "#Changing to title case \n",
    "df1[\"Air Carrier\"]=df1[\"Air Carrier\"].str.title()"
   ]
  },
  {
   "cell_type": "code",
   "execution_count": 54,
   "id": "0eb07f03",
   "metadata": {},
   "outputs": [
    {
     "data": {
      "text/plain": [
       "Air Carrier\n",
       "Unknown                       72258\n",
       "Pilot                           258\n",
       "American Airlines                90\n",
       "United Airlines                  89\n",
       "Delta Air Lines                  53\n",
       "                              ...  \n",
       "Richard L. Mcglashan              1\n",
       "Inflight Pilot Traning Llc        1\n",
       "Mills & Daughters Inc             1\n",
       "Beery Douglas W                   1\n",
       "Mc Cessna 210N Llc                1\n",
       "Name: count, Length: 13208, dtype: int64"
      ]
     },
     "execution_count": 54,
     "metadata": {},
     "output_type": "execute_result"
    }
   ],
   "source": [
    "#Confirming the changes\n",
    "df1[\"Air Carrier\"].value_counts()"
   ]
  },
  {
   "cell_type": "code",
   "execution_count": 55,
   "id": "21383d3b",
   "metadata": {},
   "outputs": [],
   "source": [
    "df1[\"Air Carrier\"]=df1[\"Air Carrier\"].replace(\"Unknown\",\"Other Carriers\")"
   ]
  },
  {
   "cell_type": "code",
   "execution_count": 56,
   "id": "2b109aa6",
   "metadata": {},
   "outputs": [
    {
     "data": {
      "text/plain": [
       "Event Date\n",
       "1984-06-30    25\n",
       "1982-05-16    25\n",
       "2000-07-08    25\n",
       "1983-08-05    24\n",
       "1984-08-25    24\n",
       "              ..\n",
       "2014-03-16     1\n",
       "2014-03-15     1\n",
       "2014-03-12     1\n",
       "2014-03-10     1\n",
       "2022-12-29     1\n",
       "Name: count, Length: 14782, dtype: int64"
      ]
     },
     "execution_count": 56,
     "metadata": {},
     "output_type": "execute_result"
    }
   ],
   "source": [
    "df1[\"Event Date\"].value_counts()"
   ]
  },
  {
   "cell_type": "code",
   "execution_count": 57,
   "id": "143c38b3",
   "metadata": {},
   "outputs": [
    {
     "data": {
      "text/plain": [
       "Investigation Type\n",
       "Accident    85015\n",
       "Incident     3874\n",
       "Name: count, dtype: int64"
      ]
     },
     "execution_count": 57,
     "metadata": {},
     "output_type": "execute_result"
    }
   ],
   "source": [
    "df1[\"Investigation Type\"].value_counts()"
   ]
  },
  {
   "cell_type": "code",
   "execution_count": 58,
   "id": "b25a7b1b",
   "metadata": {},
   "outputs": [
    {
     "data": {
      "text/plain": [
       "Latitude\n",
       "Unknown      54507\n",
       "332739N         19\n",
       "335219N         18\n",
       "32.815556       17\n",
       "334118N         17\n",
       "             ...  \n",
       "345832N          1\n",
       "31.991666        1\n",
       "444947N          1\n",
       "034358N          1\n",
       "373829N          1\n",
       "Name: count, Length: 25593, dtype: int64"
      ]
     },
     "execution_count": 58,
     "metadata": {},
     "output_type": "execute_result"
    }
   ],
   "source": [
    "df1[\"Latitude\"].value_counts()"
   ]
  },
  {
   "cell_type": "code",
   "execution_count": 59,
   "id": "372c1dcc",
   "metadata": {},
   "outputs": [],
   "source": [
    "df1[\"Latitude\"]=df1[\"Latitude\"].replace(\"Unknown\",0,regex=True)"
   ]
  },
  {
   "cell_type": "code",
   "execution_count": 60,
   "id": "65034859",
   "metadata": {},
   "outputs": [],
   "source": [
    "df1[\"Longitude\"]=df1[\"Longitude\"].replace(\"Unknown\",0,regex=True)"
   ]
  },
  {
   "cell_type": "code",
   "execution_count": 61,
   "id": "efccccb4",
   "metadata": {},
   "outputs": [
    {
     "data": {
      "text/html": [
       "<div>\n",
       "<style scoped>\n",
       "    .dataframe tbody tr th:only-of-type {\n",
       "        vertical-align: middle;\n",
       "    }\n",
       "\n",
       "    .dataframe tbody tr th {\n",
       "        vertical-align: top;\n",
       "    }\n",
       "\n",
       "    .dataframe thead th {\n",
       "        text-align: right;\n",
       "    }\n",
       "</style>\n",
       "<table border=\"1\" class=\"dataframe\">\n",
       "  <thead>\n",
       "    <tr style=\"text-align: right;\">\n",
       "      <th></th>\n",
       "      <th>Investigation Type</th>\n",
       "      <th>Event Date</th>\n",
       "      <th>Location</th>\n",
       "      <th>Country</th>\n",
       "      <th>Latitude</th>\n",
       "      <th>Longitude</th>\n",
       "      <th>Airport Name</th>\n",
       "      <th>Injury Severity</th>\n",
       "      <th>Aircraft Damage</th>\n",
       "      <th>Aircraft Category</th>\n",
       "      <th>Registration Number</th>\n",
       "      <th>Make</th>\n",
       "      <th>Model</th>\n",
       "      <th>Amateur Built</th>\n",
       "      <th>Number Of Engines</th>\n",
       "      <th>Engine Type</th>\n",
       "      <th>Far Description</th>\n",
       "      <th>Schedule</th>\n",
       "      <th>Purpose Of Flight</th>\n",
       "      <th>Air Carrier</th>\n",
       "      <th>Total Fatal Injuries</th>\n",
       "      <th>Total Serious Injuries</th>\n",
       "      <th>Total Minor Injuries</th>\n",
       "      <th>Total Uninjured</th>\n",
       "      <th>Weather Condition</th>\n",
       "      <th>Broad Phase Of Flight</th>\n",
       "      <th>Report Status</th>\n",
       "      <th>Publication Date</th>\n",
       "    </tr>\n",
       "  </thead>\n",
       "  <tbody>\n",
       "    <tr>\n",
       "      <th>0</th>\n",
       "      <td>Accident</td>\n",
       "      <td>1948-10-24</td>\n",
       "      <td>Moose Creek, Id</td>\n",
       "      <td>United States</td>\n",
       "      <td>0</td>\n",
       "      <td>0</td>\n",
       "      <td>Unknown</td>\n",
       "      <td>Fatal</td>\n",
       "      <td>Destroyed</td>\n",
       "      <td>Unknown</td>\n",
       "      <td>NC6404</td>\n",
       "      <td>Stinson</td>\n",
       "      <td>108-3</td>\n",
       "      <td>No</td>\n",
       "      <td>1.0</td>\n",
       "      <td>Reciprocating</td>\n",
       "      <td>Unknown</td>\n",
       "      <td>Unknown</td>\n",
       "      <td>Personal</td>\n",
       "      <td>Other Carriers</td>\n",
       "      <td>2.0</td>\n",
       "      <td>0.0</td>\n",
       "      <td>0.0</td>\n",
       "      <td>0.0</td>\n",
       "      <td>UNK</td>\n",
       "      <td>Cruise</td>\n",
       "      <td>Probable Cause</td>\n",
       "      <td>Unknown</td>\n",
       "    </tr>\n",
       "    <tr>\n",
       "      <th>1</th>\n",
       "      <td>Accident</td>\n",
       "      <td>1962-07-19</td>\n",
       "      <td>Bridgeport, Ca</td>\n",
       "      <td>United States</td>\n",
       "      <td>0</td>\n",
       "      <td>0</td>\n",
       "      <td>Unknown</td>\n",
       "      <td>Fatal</td>\n",
       "      <td>Destroyed</td>\n",
       "      <td>Unknown</td>\n",
       "      <td>N5069P</td>\n",
       "      <td>Piper</td>\n",
       "      <td>PA24-180</td>\n",
       "      <td>No</td>\n",
       "      <td>1.0</td>\n",
       "      <td>Reciprocating</td>\n",
       "      <td>Unknown</td>\n",
       "      <td>Unknown</td>\n",
       "      <td>Personal</td>\n",
       "      <td>Other Carriers</td>\n",
       "      <td>4.0</td>\n",
       "      <td>0.0</td>\n",
       "      <td>0.0</td>\n",
       "      <td>0.0</td>\n",
       "      <td>UNK</td>\n",
       "      <td>Unknown</td>\n",
       "      <td>Probable Cause</td>\n",
       "      <td>19-09-1996</td>\n",
       "    </tr>\n",
       "    <tr>\n",
       "      <th>2</th>\n",
       "      <td>Accident</td>\n",
       "      <td>1974-08-30</td>\n",
       "      <td>Saltville, Va</td>\n",
       "      <td>United States</td>\n",
       "      <td>36.922223</td>\n",
       "      <td>-81.878056</td>\n",
       "      <td>Unknown</td>\n",
       "      <td>Fatal</td>\n",
       "      <td>Destroyed</td>\n",
       "      <td>Unknown</td>\n",
       "      <td>N5142R</td>\n",
       "      <td>Cessna</td>\n",
       "      <td>172M</td>\n",
       "      <td>No</td>\n",
       "      <td>1.0</td>\n",
       "      <td>Reciprocating</td>\n",
       "      <td>Unknown</td>\n",
       "      <td>Unknown</td>\n",
       "      <td>Personal</td>\n",
       "      <td>Other Carriers</td>\n",
       "      <td>3.0</td>\n",
       "      <td>0.0</td>\n",
       "      <td>0.0</td>\n",
       "      <td>0.0</td>\n",
       "      <td>IMC</td>\n",
       "      <td>Cruise</td>\n",
       "      <td>Probable Cause</td>\n",
       "      <td>26-02-2007</td>\n",
       "    </tr>\n",
       "    <tr>\n",
       "      <th>3</th>\n",
       "      <td>Accident</td>\n",
       "      <td>1977-06-19</td>\n",
       "      <td>Eureka, Ca</td>\n",
       "      <td>United States</td>\n",
       "      <td>0</td>\n",
       "      <td>0</td>\n",
       "      <td>Unknown</td>\n",
       "      <td>Fatal</td>\n",
       "      <td>Destroyed</td>\n",
       "      <td>Unknown</td>\n",
       "      <td>N1168J</td>\n",
       "      <td>Rockwell</td>\n",
       "      <td>112</td>\n",
       "      <td>No</td>\n",
       "      <td>1.0</td>\n",
       "      <td>Reciprocating</td>\n",
       "      <td>Unknown</td>\n",
       "      <td>Unknown</td>\n",
       "      <td>Personal</td>\n",
       "      <td>Other Carriers</td>\n",
       "      <td>2.0</td>\n",
       "      <td>0.0</td>\n",
       "      <td>0.0</td>\n",
       "      <td>0.0</td>\n",
       "      <td>IMC</td>\n",
       "      <td>Cruise</td>\n",
       "      <td>Probable Cause</td>\n",
       "      <td>12-09-2000</td>\n",
       "    </tr>\n",
       "    <tr>\n",
       "      <th>4</th>\n",
       "      <td>Accident</td>\n",
       "      <td>1979-08-02</td>\n",
       "      <td>Canton, Oh</td>\n",
       "      <td>United States</td>\n",
       "      <td>0</td>\n",
       "      <td>0</td>\n",
       "      <td>Unknown</td>\n",
       "      <td>Fatal</td>\n",
       "      <td>Destroyed</td>\n",
       "      <td>Unknown</td>\n",
       "      <td>N15NY</td>\n",
       "      <td>Cessna</td>\n",
       "      <td>501</td>\n",
       "      <td>No</td>\n",
       "      <td>1.0</td>\n",
       "      <td>Unknown</td>\n",
       "      <td>Unknown</td>\n",
       "      <td>Unknown</td>\n",
       "      <td>Personal</td>\n",
       "      <td>Other Carriers</td>\n",
       "      <td>1.0</td>\n",
       "      <td>2.0</td>\n",
       "      <td>0.0</td>\n",
       "      <td>0.0</td>\n",
       "      <td>VMC</td>\n",
       "      <td>Approach</td>\n",
       "      <td>Probable Cause</td>\n",
       "      <td>16-04-1980</td>\n",
       "    </tr>\n",
       "    <tr>\n",
       "      <th>...</th>\n",
       "      <td>...</td>\n",
       "      <td>...</td>\n",
       "      <td>...</td>\n",
       "      <td>...</td>\n",
       "      <td>...</td>\n",
       "      <td>...</td>\n",
       "      <td>...</td>\n",
       "      <td>...</td>\n",
       "      <td>...</td>\n",
       "      <td>...</td>\n",
       "      <td>...</td>\n",
       "      <td>...</td>\n",
       "      <td>...</td>\n",
       "      <td>...</td>\n",
       "      <td>...</td>\n",
       "      <td>...</td>\n",
       "      <td>...</td>\n",
       "      <td>...</td>\n",
       "      <td>...</td>\n",
       "      <td>...</td>\n",
       "      <td>...</td>\n",
       "      <td>...</td>\n",
       "      <td>...</td>\n",
       "      <td>...</td>\n",
       "      <td>...</td>\n",
       "      <td>...</td>\n",
       "      <td>...</td>\n",
       "      <td>...</td>\n",
       "    </tr>\n",
       "    <tr>\n",
       "      <th>88884</th>\n",
       "      <td>Accident</td>\n",
       "      <td>2022-12-26</td>\n",
       "      <td>Annapolis, Md</td>\n",
       "      <td>United States</td>\n",
       "      <td>0</td>\n",
       "      <td>0</td>\n",
       "      <td>Unknown</td>\n",
       "      <td>Minor</td>\n",
       "      <td>Unknown</td>\n",
       "      <td>Unknown</td>\n",
       "      <td>N1867H</td>\n",
       "      <td>Piper</td>\n",
       "      <td>PA-28-151</td>\n",
       "      <td>No</td>\n",
       "      <td>1.0</td>\n",
       "      <td>Unknown</td>\n",
       "      <td>091</td>\n",
       "      <td>Unknown</td>\n",
       "      <td>Personal</td>\n",
       "      <td>Other Carriers</td>\n",
       "      <td>0.0</td>\n",
       "      <td>1.0</td>\n",
       "      <td>0.0</td>\n",
       "      <td>0.0</td>\n",
       "      <td>UNKNOWN</td>\n",
       "      <td>Unknown</td>\n",
       "      <td>Unknown</td>\n",
       "      <td>29-12-2022</td>\n",
       "    </tr>\n",
       "    <tr>\n",
       "      <th>88885</th>\n",
       "      <td>Accident</td>\n",
       "      <td>2022-12-26</td>\n",
       "      <td>Hampton, Nh</td>\n",
       "      <td>United States</td>\n",
       "      <td>0</td>\n",
       "      <td>0</td>\n",
       "      <td>Unknown</td>\n",
       "      <td>Unknown</td>\n",
       "      <td>Unknown</td>\n",
       "      <td>Unknown</td>\n",
       "      <td>N2895Z</td>\n",
       "      <td>Bellanca</td>\n",
       "      <td>7ECA</td>\n",
       "      <td>No</td>\n",
       "      <td>1.0</td>\n",
       "      <td>Unknown</td>\n",
       "      <td>Unknown</td>\n",
       "      <td>Unknown</td>\n",
       "      <td>Unknown</td>\n",
       "      <td>Other Carriers</td>\n",
       "      <td>0.0</td>\n",
       "      <td>0.0</td>\n",
       "      <td>0.0</td>\n",
       "      <td>0.0</td>\n",
       "      <td>UNKNOWN</td>\n",
       "      <td>Unknown</td>\n",
       "      <td>Unknown</td>\n",
       "      <td>Unknown</td>\n",
       "    </tr>\n",
       "    <tr>\n",
       "      <th>88886</th>\n",
       "      <td>Accident</td>\n",
       "      <td>2022-12-26</td>\n",
       "      <td>Payson, Az</td>\n",
       "      <td>United States</td>\n",
       "      <td>341525N</td>\n",
       "      <td>1112021W</td>\n",
       "      <td>Payson</td>\n",
       "      <td>Non-Fatal</td>\n",
       "      <td>Substantial</td>\n",
       "      <td>Airplane</td>\n",
       "      <td>N749PJ</td>\n",
       "      <td>American Champion Aircraft</td>\n",
       "      <td>8GCBC</td>\n",
       "      <td>No</td>\n",
       "      <td>1.0</td>\n",
       "      <td>Unknown</td>\n",
       "      <td>091</td>\n",
       "      <td>Unknown</td>\n",
       "      <td>Personal</td>\n",
       "      <td>Other Carriers</td>\n",
       "      <td>0.0</td>\n",
       "      <td>0.0</td>\n",
       "      <td>0.0</td>\n",
       "      <td>1.0</td>\n",
       "      <td>VMC</td>\n",
       "      <td>Unknown</td>\n",
       "      <td>Unknown</td>\n",
       "      <td>27-12-2022</td>\n",
       "    </tr>\n",
       "    <tr>\n",
       "      <th>88887</th>\n",
       "      <td>Accident</td>\n",
       "      <td>2022-12-26</td>\n",
       "      <td>Morgan, Ut</td>\n",
       "      <td>United States</td>\n",
       "      <td>0</td>\n",
       "      <td>0</td>\n",
       "      <td>Unknown</td>\n",
       "      <td>Unknown</td>\n",
       "      <td>Unknown</td>\n",
       "      <td>Unknown</td>\n",
       "      <td>N210CU</td>\n",
       "      <td>Cessna</td>\n",
       "      <td>210N</td>\n",
       "      <td>No</td>\n",
       "      <td>1.0</td>\n",
       "      <td>Unknown</td>\n",
       "      <td>091</td>\n",
       "      <td>Unknown</td>\n",
       "      <td>Personal</td>\n",
       "      <td>Mc Cessna 210N Llc</td>\n",
       "      <td>0.0</td>\n",
       "      <td>0.0</td>\n",
       "      <td>0.0</td>\n",
       "      <td>0.0</td>\n",
       "      <td>UNKNOWN</td>\n",
       "      <td>Unknown</td>\n",
       "      <td>Unknown</td>\n",
       "      <td>Unknown</td>\n",
       "    </tr>\n",
       "    <tr>\n",
       "      <th>88888</th>\n",
       "      <td>Accident</td>\n",
       "      <td>2022-12-29</td>\n",
       "      <td>Athens, Ga</td>\n",
       "      <td>United States</td>\n",
       "      <td>0</td>\n",
       "      <td>0</td>\n",
       "      <td>Unknown</td>\n",
       "      <td>Minor</td>\n",
       "      <td>Unknown</td>\n",
       "      <td>Unknown</td>\n",
       "      <td>N9026P</td>\n",
       "      <td>Piper</td>\n",
       "      <td>PA-24-260</td>\n",
       "      <td>No</td>\n",
       "      <td>1.0</td>\n",
       "      <td>Unknown</td>\n",
       "      <td>091</td>\n",
       "      <td>Unknown</td>\n",
       "      <td>Personal</td>\n",
       "      <td>Other Carriers</td>\n",
       "      <td>0.0</td>\n",
       "      <td>1.0</td>\n",
       "      <td>0.0</td>\n",
       "      <td>1.0</td>\n",
       "      <td>UNKNOWN</td>\n",
       "      <td>Unknown</td>\n",
       "      <td>Unknown</td>\n",
       "      <td>30-12-2022</td>\n",
       "    </tr>\n",
       "  </tbody>\n",
       "</table>\n",
       "<p>88889 rows × 28 columns</p>\n",
       "</div>"
      ],
      "text/plain": [
       "      Investigation Type  Event Date         Location        Country  \\\n",
       "0               Accident  1948-10-24  Moose Creek, Id  United States   \n",
       "1               Accident  1962-07-19   Bridgeport, Ca  United States   \n",
       "2               Accident  1974-08-30    Saltville, Va  United States   \n",
       "3               Accident  1977-06-19       Eureka, Ca  United States   \n",
       "4               Accident  1979-08-02       Canton, Oh  United States   \n",
       "...                  ...         ...              ...            ...   \n",
       "88884           Accident  2022-12-26    Annapolis, Md  United States   \n",
       "88885           Accident  2022-12-26      Hampton, Nh  United States   \n",
       "88886           Accident  2022-12-26       Payson, Az  United States   \n",
       "88887           Accident  2022-12-26       Morgan, Ut  United States   \n",
       "88888           Accident  2022-12-29       Athens, Ga  United States   \n",
       "\n",
       "        Latitude  Longitude Airport Name Injury Severity Aircraft Damage  \\\n",
       "0              0          0      Unknown           Fatal       Destroyed   \n",
       "1              0          0      Unknown           Fatal       Destroyed   \n",
       "2      36.922223 -81.878056      Unknown           Fatal       Destroyed   \n",
       "3              0          0      Unknown           Fatal       Destroyed   \n",
       "4              0          0      Unknown           Fatal       Destroyed   \n",
       "...          ...        ...          ...             ...             ...   \n",
       "88884          0          0      Unknown           Minor         Unknown   \n",
       "88885          0          0      Unknown         Unknown         Unknown   \n",
       "88886    341525N   1112021W       Payson       Non-Fatal     Substantial   \n",
       "88887          0          0      Unknown         Unknown         Unknown   \n",
       "88888          0          0      Unknown           Minor         Unknown   \n",
       "\n",
       "      Aircraft Category Registration Number                        Make  \\\n",
       "0               Unknown              NC6404                     Stinson   \n",
       "1               Unknown              N5069P                       Piper   \n",
       "2               Unknown              N5142R                      Cessna   \n",
       "3               Unknown              N1168J                    Rockwell   \n",
       "4               Unknown               N15NY                      Cessna   \n",
       "...                 ...                 ...                         ...   \n",
       "88884           Unknown              N1867H                       Piper   \n",
       "88885           Unknown              N2895Z                    Bellanca   \n",
       "88886          Airplane              N749PJ  American Champion Aircraft   \n",
       "88887           Unknown              N210CU                      Cessna   \n",
       "88888           Unknown              N9026P                       Piper   \n",
       "\n",
       "           Model Amateur Built  Number Of Engines    Engine Type  \\\n",
       "0          108-3            No                1.0  Reciprocating   \n",
       "1       PA24-180            No                1.0  Reciprocating   \n",
       "2           172M            No                1.0  Reciprocating   \n",
       "3            112            No                1.0  Reciprocating   \n",
       "4            501            No                1.0        Unknown   \n",
       "...          ...           ...                ...            ...   \n",
       "88884  PA-28-151            No                1.0        Unknown   \n",
       "88885       7ECA            No                1.0        Unknown   \n",
       "88886      8GCBC            No                1.0        Unknown   \n",
       "88887       210N            No                1.0        Unknown   \n",
       "88888  PA-24-260            No                1.0        Unknown   \n",
       "\n",
       "      Far Description Schedule Purpose Of Flight         Air Carrier  \\\n",
       "0             Unknown  Unknown          Personal      Other Carriers   \n",
       "1             Unknown  Unknown          Personal      Other Carriers   \n",
       "2             Unknown  Unknown          Personal      Other Carriers   \n",
       "3             Unknown  Unknown          Personal      Other Carriers   \n",
       "4             Unknown  Unknown          Personal      Other Carriers   \n",
       "...               ...      ...               ...                 ...   \n",
       "88884             091  Unknown          Personal      Other Carriers   \n",
       "88885         Unknown  Unknown           Unknown      Other Carriers   \n",
       "88886             091  Unknown          Personal      Other Carriers   \n",
       "88887             091  Unknown          Personal  Mc Cessna 210N Llc   \n",
       "88888             091  Unknown          Personal      Other Carriers   \n",
       "\n",
       "       Total Fatal Injuries  Total Serious Injuries  Total Minor Injuries  \\\n",
       "0                       2.0                     0.0                   0.0   \n",
       "1                       4.0                     0.0                   0.0   \n",
       "2                       3.0                     0.0                   0.0   \n",
       "3                       2.0                     0.0                   0.0   \n",
       "4                       1.0                     2.0                   0.0   \n",
       "...                     ...                     ...                   ...   \n",
       "88884                   0.0                     1.0                   0.0   \n",
       "88885                   0.0                     0.0                   0.0   \n",
       "88886                   0.0                     0.0                   0.0   \n",
       "88887                   0.0                     0.0                   0.0   \n",
       "88888                   0.0                     1.0                   0.0   \n",
       "\n",
       "       Total Uninjured Weather Condition Broad Phase Of Flight  \\\n",
       "0                  0.0               UNK                Cruise   \n",
       "1                  0.0               UNK               Unknown   \n",
       "2                  0.0               IMC                Cruise   \n",
       "3                  0.0               IMC                Cruise   \n",
       "4                  0.0               VMC              Approach   \n",
       "...                ...               ...                   ...   \n",
       "88884              0.0           UNKNOWN               Unknown   \n",
       "88885              0.0           UNKNOWN               Unknown   \n",
       "88886              1.0               VMC               Unknown   \n",
       "88887              0.0           UNKNOWN               Unknown   \n",
       "88888              1.0           UNKNOWN               Unknown   \n",
       "\n",
       "        Report Status Publication Date  \n",
       "0      Probable Cause          Unknown  \n",
       "1      Probable Cause       19-09-1996  \n",
       "2      Probable Cause       26-02-2007  \n",
       "3      Probable Cause       12-09-2000  \n",
       "4      Probable Cause       16-04-1980  \n",
       "...               ...              ...  \n",
       "88884         Unknown       29-12-2022  \n",
       "88885         Unknown          Unknown  \n",
       "88886         Unknown       27-12-2022  \n",
       "88887         Unknown          Unknown  \n",
       "88888         Unknown       30-12-2022  \n",
       "\n",
       "[88889 rows x 28 columns]"
      ]
     },
     "execution_count": 61,
     "metadata": {},
     "output_type": "execute_result"
    }
   ],
   "source": [
    "pd.set_option(\"display.max_columns\",50)\n",
    "df1"
   ]
  },
  {
   "cell_type": "code",
   "execution_count": 62,
   "id": "397b52b4",
   "metadata": {},
   "outputs": [
    {
     "data": {
      "text/plain": [
       "Aircraft Category\n",
       "Unknown              56616\n",
       "Airplane             27617\n",
       "Helicopter            3440\n",
       "Glider                 508\n",
       "Balloon                231\n",
       "Gyrocraft              173\n",
       "Weight-Shift           161\n",
       "Powered Parachute       91\n",
       "Ultralight              30\n",
       "WSFT                     9\n",
       "Name: count, dtype: int64"
      ]
     },
     "execution_count": 62,
     "metadata": {},
     "output_type": "execute_result"
    }
   ],
   "source": [
    "df1[\"Aircraft Category\"].value_counts().head(10)"
   ]
  },
  {
   "cell_type": "code",
   "execution_count": 63,
   "id": "d28f3882",
   "metadata": {},
   "outputs": [],
   "source": [
    "df1[\"Aircraft Category\"]=df1[\"Aircraft Category\"].replace(\"Unknown\",\"Other\")"
   ]
  },
  {
   "cell_type": "code",
   "execution_count": 64,
   "id": "72d6e273",
   "metadata": {},
   "outputs": [
    {
     "data": {
      "text/html": [
       "<div>\n",
       "<style scoped>\n",
       "    .dataframe tbody tr th:only-of-type {\n",
       "        vertical-align: middle;\n",
       "    }\n",
       "\n",
       "    .dataframe tbody tr th {\n",
       "        vertical-align: top;\n",
       "    }\n",
       "\n",
       "    .dataframe thead th {\n",
       "        text-align: right;\n",
       "    }\n",
       "</style>\n",
       "<table border=\"1\" class=\"dataframe\">\n",
       "  <thead>\n",
       "    <tr style=\"text-align: right;\">\n",
       "      <th></th>\n",
       "      <th>Investigation Type</th>\n",
       "      <th>Event Date</th>\n",
       "      <th>Location</th>\n",
       "      <th>Country</th>\n",
       "      <th>Latitude</th>\n",
       "      <th>Longitude</th>\n",
       "      <th>Airport Name</th>\n",
       "      <th>Injury Severity</th>\n",
       "      <th>Aircraft Damage</th>\n",
       "      <th>Aircraft Category</th>\n",
       "      <th>Registration Number</th>\n",
       "      <th>Make</th>\n",
       "      <th>Model</th>\n",
       "      <th>Amateur Built</th>\n",
       "      <th>Number Of Engines</th>\n",
       "      <th>Engine Type</th>\n",
       "      <th>Far Description</th>\n",
       "      <th>Schedule</th>\n",
       "      <th>Purpose Of Flight</th>\n",
       "      <th>Air Carrier</th>\n",
       "      <th>Total Fatal Injuries</th>\n",
       "      <th>Total Serious Injuries</th>\n",
       "      <th>Total Minor Injuries</th>\n",
       "      <th>Total Uninjured</th>\n",
       "      <th>Weather Condition</th>\n",
       "      <th>Broad Phase Of Flight</th>\n",
       "      <th>Report Status</th>\n",
       "      <th>Publication Date</th>\n",
       "    </tr>\n",
       "  </thead>\n",
       "  <tbody>\n",
       "    <tr>\n",
       "      <th>0</th>\n",
       "      <td>Accident</td>\n",
       "      <td>1948-10-24</td>\n",
       "      <td>Moose Creek, Id</td>\n",
       "      <td>United States</td>\n",
       "      <td>0</td>\n",
       "      <td>0</td>\n",
       "      <td>Unknown</td>\n",
       "      <td>Fatal</td>\n",
       "      <td>Destroyed</td>\n",
       "      <td>Other</td>\n",
       "      <td>NC6404</td>\n",
       "      <td>Stinson</td>\n",
       "      <td>108-3</td>\n",
       "      <td>No</td>\n",
       "      <td>1.0</td>\n",
       "      <td>Reciprocating</td>\n",
       "      <td>Unknown</td>\n",
       "      <td>Unknown</td>\n",
       "      <td>Personal</td>\n",
       "      <td>Other Carriers</td>\n",
       "      <td>2.0</td>\n",
       "      <td>0.0</td>\n",
       "      <td>0.0</td>\n",
       "      <td>0.0</td>\n",
       "      <td>UNK</td>\n",
       "      <td>Cruise</td>\n",
       "      <td>Probable Cause</td>\n",
       "      <td>Unknown</td>\n",
       "    </tr>\n",
       "    <tr>\n",
       "      <th>1</th>\n",
       "      <td>Accident</td>\n",
       "      <td>1962-07-19</td>\n",
       "      <td>Bridgeport, Ca</td>\n",
       "      <td>United States</td>\n",
       "      <td>0</td>\n",
       "      <td>0</td>\n",
       "      <td>Unknown</td>\n",
       "      <td>Fatal</td>\n",
       "      <td>Destroyed</td>\n",
       "      <td>Other</td>\n",
       "      <td>N5069P</td>\n",
       "      <td>Piper</td>\n",
       "      <td>PA24-180</td>\n",
       "      <td>No</td>\n",
       "      <td>1.0</td>\n",
       "      <td>Reciprocating</td>\n",
       "      <td>Unknown</td>\n",
       "      <td>Unknown</td>\n",
       "      <td>Personal</td>\n",
       "      <td>Other Carriers</td>\n",
       "      <td>4.0</td>\n",
       "      <td>0.0</td>\n",
       "      <td>0.0</td>\n",
       "      <td>0.0</td>\n",
       "      <td>UNK</td>\n",
       "      <td>Unknown</td>\n",
       "      <td>Probable Cause</td>\n",
       "      <td>19-09-1996</td>\n",
       "    </tr>\n",
       "    <tr>\n",
       "      <th>2</th>\n",
       "      <td>Accident</td>\n",
       "      <td>1974-08-30</td>\n",
       "      <td>Saltville, Va</td>\n",
       "      <td>United States</td>\n",
       "      <td>36.922223</td>\n",
       "      <td>-81.878056</td>\n",
       "      <td>Unknown</td>\n",
       "      <td>Fatal</td>\n",
       "      <td>Destroyed</td>\n",
       "      <td>Other</td>\n",
       "      <td>N5142R</td>\n",
       "      <td>Cessna</td>\n",
       "      <td>172M</td>\n",
       "      <td>No</td>\n",
       "      <td>1.0</td>\n",
       "      <td>Reciprocating</td>\n",
       "      <td>Unknown</td>\n",
       "      <td>Unknown</td>\n",
       "      <td>Personal</td>\n",
       "      <td>Other Carriers</td>\n",
       "      <td>3.0</td>\n",
       "      <td>0.0</td>\n",
       "      <td>0.0</td>\n",
       "      <td>0.0</td>\n",
       "      <td>IMC</td>\n",
       "      <td>Cruise</td>\n",
       "      <td>Probable Cause</td>\n",
       "      <td>26-02-2007</td>\n",
       "    </tr>\n",
       "    <tr>\n",
       "      <th>3</th>\n",
       "      <td>Accident</td>\n",
       "      <td>1977-06-19</td>\n",
       "      <td>Eureka, Ca</td>\n",
       "      <td>United States</td>\n",
       "      <td>0</td>\n",
       "      <td>0</td>\n",
       "      <td>Unknown</td>\n",
       "      <td>Fatal</td>\n",
       "      <td>Destroyed</td>\n",
       "      <td>Other</td>\n",
       "      <td>N1168J</td>\n",
       "      <td>Rockwell</td>\n",
       "      <td>112</td>\n",
       "      <td>No</td>\n",
       "      <td>1.0</td>\n",
       "      <td>Reciprocating</td>\n",
       "      <td>Unknown</td>\n",
       "      <td>Unknown</td>\n",
       "      <td>Personal</td>\n",
       "      <td>Other Carriers</td>\n",
       "      <td>2.0</td>\n",
       "      <td>0.0</td>\n",
       "      <td>0.0</td>\n",
       "      <td>0.0</td>\n",
       "      <td>IMC</td>\n",
       "      <td>Cruise</td>\n",
       "      <td>Probable Cause</td>\n",
       "      <td>12-09-2000</td>\n",
       "    </tr>\n",
       "    <tr>\n",
       "      <th>4</th>\n",
       "      <td>Accident</td>\n",
       "      <td>1979-08-02</td>\n",
       "      <td>Canton, Oh</td>\n",
       "      <td>United States</td>\n",
       "      <td>0</td>\n",
       "      <td>0</td>\n",
       "      <td>Unknown</td>\n",
       "      <td>Fatal</td>\n",
       "      <td>Destroyed</td>\n",
       "      <td>Other</td>\n",
       "      <td>N15NY</td>\n",
       "      <td>Cessna</td>\n",
       "      <td>501</td>\n",
       "      <td>No</td>\n",
       "      <td>1.0</td>\n",
       "      <td>Unknown</td>\n",
       "      <td>Unknown</td>\n",
       "      <td>Unknown</td>\n",
       "      <td>Personal</td>\n",
       "      <td>Other Carriers</td>\n",
       "      <td>1.0</td>\n",
       "      <td>2.0</td>\n",
       "      <td>0.0</td>\n",
       "      <td>0.0</td>\n",
       "      <td>VMC</td>\n",
       "      <td>Approach</td>\n",
       "      <td>Probable Cause</td>\n",
       "      <td>16-04-1980</td>\n",
       "    </tr>\n",
       "  </tbody>\n",
       "</table>\n",
       "</div>"
      ],
      "text/plain": [
       "  Investigation Type  Event Date         Location        Country   Latitude  \\\n",
       "0           Accident  1948-10-24  Moose Creek, Id  United States          0   \n",
       "1           Accident  1962-07-19   Bridgeport, Ca  United States          0   \n",
       "2           Accident  1974-08-30    Saltville, Va  United States  36.922223   \n",
       "3           Accident  1977-06-19       Eureka, Ca  United States          0   \n",
       "4           Accident  1979-08-02       Canton, Oh  United States          0   \n",
       "\n",
       "   Longitude Airport Name Injury Severity Aircraft Damage Aircraft Category  \\\n",
       "0          0      Unknown           Fatal       Destroyed             Other   \n",
       "1          0      Unknown           Fatal       Destroyed             Other   \n",
       "2 -81.878056      Unknown           Fatal       Destroyed             Other   \n",
       "3          0      Unknown           Fatal       Destroyed             Other   \n",
       "4          0      Unknown           Fatal       Destroyed             Other   \n",
       "\n",
       "  Registration Number      Make     Model Amateur Built  Number Of Engines  \\\n",
       "0              NC6404   Stinson     108-3            No                1.0   \n",
       "1              N5069P     Piper  PA24-180            No                1.0   \n",
       "2              N5142R    Cessna      172M            No                1.0   \n",
       "3              N1168J  Rockwell       112            No                1.0   \n",
       "4               N15NY    Cessna       501            No                1.0   \n",
       "\n",
       "     Engine Type Far Description Schedule Purpose Of Flight     Air Carrier  \\\n",
       "0  Reciprocating         Unknown  Unknown          Personal  Other Carriers   \n",
       "1  Reciprocating         Unknown  Unknown          Personal  Other Carriers   \n",
       "2  Reciprocating         Unknown  Unknown          Personal  Other Carriers   \n",
       "3  Reciprocating         Unknown  Unknown          Personal  Other Carriers   \n",
       "4        Unknown         Unknown  Unknown          Personal  Other Carriers   \n",
       "\n",
       "   Total Fatal Injuries  Total Serious Injuries  Total Minor Injuries  \\\n",
       "0                   2.0                     0.0                   0.0   \n",
       "1                   4.0                     0.0                   0.0   \n",
       "2                   3.0                     0.0                   0.0   \n",
       "3                   2.0                     0.0                   0.0   \n",
       "4                   1.0                     2.0                   0.0   \n",
       "\n",
       "   Total Uninjured Weather Condition Broad Phase Of Flight   Report Status  \\\n",
       "0              0.0               UNK                Cruise  Probable Cause   \n",
       "1              0.0               UNK               Unknown  Probable Cause   \n",
       "2              0.0               IMC                Cruise  Probable Cause   \n",
       "3              0.0               IMC                Cruise  Probable Cause   \n",
       "4              0.0               VMC              Approach  Probable Cause   \n",
       "\n",
       "  Publication Date  \n",
       "0          Unknown  \n",
       "1       19-09-1996  \n",
       "2       26-02-2007  \n",
       "3       12-09-2000  \n",
       "4       16-04-1980  "
      ]
     },
     "execution_count": 64,
     "metadata": {},
     "output_type": "execute_result"
    }
   ],
   "source": [
    "df1.head()"
   ]
  },
  {
   "cell_type": "code",
   "execution_count": 65,
   "id": "f9a83f8b",
   "metadata": {},
   "outputs": [
    {
     "data": {
      "text/plain": [
       "Index(['Investigation Type', 'Event Date', 'Location', 'Country', 'Latitude',\n",
       "       'Longitude', 'Airport Name', 'Injury Severity', 'Aircraft Damage',\n",
       "       'Aircraft Category', 'Registration Number', 'Make', 'Model',\n",
       "       'Amateur Built', 'Number Of Engines', 'Engine Type', 'Far Description',\n",
       "       'Schedule', 'Purpose Of Flight', 'Air Carrier', 'Total Fatal Injuries',\n",
       "       'Total Serious Injuries', 'Total Minor Injuries', 'Total Uninjured',\n",
       "       'Weather Condition', 'Broad Phase Of Flight', 'Report Status',\n",
       "       'Publication Date'],\n",
       "      dtype='object')"
      ]
     },
     "execution_count": 65,
     "metadata": {},
     "output_type": "execute_result"
    }
   ],
   "source": [
    "df1.columns"
   ]
  },
  {
   "cell_type": "markdown",
   "id": "d26fb757",
   "metadata": {},
   "source": [
    "After cleaning the dataset we save the clean dataset"
   ]
  },
  {
   "cell_type": "code",
   "execution_count": 81,
   "id": "8a0a7a38",
   "metadata": {},
   "outputs": [],
   "source": [
    "df1.to_csv(\"Cleaned Aviation Dataset.csv\")"
   ]
  },
  {
   "cell_type": "markdown",
   "id": "b4e0d2d8",
   "metadata": {},
   "source": [
    "# The Analysis:"
   ]
  },
  {
   "cell_type": "markdown",
   "id": "a57b0460",
   "metadata": {},
   "source": [
    "## Overview"
   ]
  },
  {
   "cell_type": "markdown",
   "id": "bcfde62d",
   "metadata": {},
   "source": [
    "The above dataset outlines information based on investigations made by the National Transport and Safety Board(NTSB) concerning aviation accident over the past decades. Many factors have influenced the accident rates over the past decades such as:\n",
    "  1. Model of an aircraft\n",
    "  2. Make of the aircraft \n",
    "  3. The Aircraft carrier\n",
    "\n",
    "and many more key factors. My analysis entails how these factors have contributed to aviation accidents and what has been done over the years to reduce such catastrophes."
   ]
  },
  {
   "cell_type": "markdown",
   "id": "e28a9b4e",
   "metadata": {},
   "source": [
    "## Objectives"
   ]
  },
  {
   "cell_type": "markdown",
   "id": "4e5f052a",
   "metadata": {},
   "source": [
    "### Main Objective"
   ]
  },
  {
   "cell_type": "markdown",
   "id": "54747967",
   "metadata": {},
   "source": [
    "1. Develop and interpret an analysis on aviation accident trends over the past decades."
   ]
  },
  {
   "cell_type": "markdown",
   "id": "72de3e31",
   "metadata": {},
   "source": [
    "### Specific Objectives"
   ]
  },
  {
   "cell_type": "markdown",
   "id": "17994ae8",
   "metadata": {},
   "source": [
    "2. How will I identify factors that have led to aviation accidents?\n",
    "3. Have there been any changes in aviation safety over the past years?"
   ]
  },
  {
   "cell_type": "markdown",
   "id": "09a3582c",
   "metadata": {},
   "source": [
    "# Data Preparation and Analysis"
   ]
  },
  {
   "cell_type": "markdown",
   "id": "5cea1788",
   "metadata": {},
   "source": [
    "### Analysis based on aircraft make"
   ]
  },
  {
   "cell_type": "markdown",
   "id": "f03221b2",
   "metadata": {},
   "source": [
    "I will start my analysis based on the Aircraft by making a visualization that will help me determine aircrafts makes with highest number of accidents. To easen my analysis and make visualization interpretable I will select the top 10 makes and make a visualization based on them by running the code below:"
   ]
  },
  {
   "cell_type": "code",
   "execution_count": 95,
   "id": "2496d02c",
   "metadata": {
    "scrolled": false
   },
   "outputs": [
    {
     "data": {
      "image/png": "[encoded data removed]",
      "text/plain": [
       "<Figure size 500x500 with 1 Axes>"
      ]
     },
     "metadata": {},
     "output_type": "display_data"
    }
   ],
   "source": [
    "#The code below will plot and display a visualization based on top 10 Aircraft makes with the most accident\n",
    "make_counts = df1['Make'].value_counts().head(10)#Selecting the top 10 makes\n",
    "plt.figure(figsize=(5,5 ))#Selecting the figure size of the visualiztion\n",
    "sns.barplot(x=make_counts.index, y=make_counts.values)#Selecting the x-axis and y-axis for a bargraph\n",
    "plt.title('Top 10 Aircraft Makes Involved in Aviation Accidents')#Selecting the title of the visualization\n",
    "plt.xlabel('Make')#Selecting the x-axis title\n",
    "plt.ylabel('Accidents')#Selecting the y-axis title\n",
    "plt.xticks(rotation=45)#selecting the label format for each category on the x-axis(This to avoid overlapping)\n",
    "plt.show()#plots and visualizes the image\n"
   ]
  },
  {
   "cell_type": "markdown",
   "id": "d29eb372",
   "metadata": {},
   "source": [
    "### Analysis based on model "
   ]
  },
  {
   "cell_type": "markdown",
   "id": "c0303400",
   "metadata": {},
   "source": [
    "We can further our analysis by visualizing models of aircrafts and checking how prone they are to aircraft accidents. I wrote a code based on top fifteen models that have recorded the most aircraft accidents. I did so by developing the code below to make the appropriate visualizations for analysis"
   ]
  },
  {
   "cell_type": "code",
   "execution_count": 97,
   "id": "a136ad41",
   "metadata": {},
   "outputs": [
    {
     "data": {
      "image/png": "[encoded data removed]",
      "text/plain": [
       "<Figure size 500x500 with 1 Axes>"
      ]
     },
     "metadata": {},
     "output_type": "display_data"
    }
   ],
   "source": [
    "#The code below will plot and display a visualization based on top 10 Aircraft makes with the most accident\n",
    "model_counts = df1['Model'].value_counts().head(15)#Selecting the top 15 models\n",
    "plt.figure(figsize=(5,5))#Selecting the figure size for the visualization\n",
    "sns.scatterplot(x=model_counts.index, y=model_counts.values)#Selecting the x-axis and y-axis for my scatterplot\n",
    "plt.title('Top 15 Aircraft Model Involved in Accidents')#Title for the visualization\n",
    "plt.xlabel('Model')#Title for the x-axis\n",
    "plt.ylabel('Accidents')#Title for the y-axis\n",
    "plt.xticks(rotation=90)##selecting the label format for each category on the x-axis(This to avoid overlapping)\n",
    "plt.show()#plots and visualizes the image\n"
   ]
  },
  {
   "cell_type": "markdown",
   "id": "ebb690b5",
   "metadata": {},
   "source": [
    "### Analysis based on aircraft category:"
   ]
  },
  {
   "cell_type": "markdown",
   "id": "0e858a41",
   "metadata": {},
   "source": [
    "We can further our analysis by visualizating which category of aircrafts have the most aviation accident by following the procedures below:"
   ]
  },
  {
   "cell_type": "code",
   "execution_count": 104,
   "id": "8cb969b8",
   "metadata": {},
   "outputs": [
    {
     "data": {
      "image/png": "[encoded data removed]",
      "text/plain": [
       "<Figure size 1000x500 with 1 Axes>"
      ]
     },
     "metadata": {},
     "output_type": "display_data"
    }
   ],
   "source": [
    "# #The code below will plot and display a visualization based on Aircraft category with the most accident\n",
    "plt.figure(figsize=(6,6))#Display figure size\n",
    "df1['Aircraft Category'].value_counts().plot(kind='bar', figsize=(10, 5), color='blue')#An alternative code to plot the bargraph\n",
    "plt.title('Distribution of Aircraft Category')#title\n",
    "plt.ylabel('Count')#y axis label\n",
    "plt.xlabel('Aircraft Category')#x axis label\n",
    "plt.xticks(rotation=75)\n",
    "plt.show()#Image display\n"
   ]
  },
  {
   "cell_type": "markdown",
   "id": "3a65c37a",
   "metadata": {},
   "source": [
    "### Analysis based on Air Carrier"
   ]
  },
  {
   "cell_type": "markdown",
   "id": "827dcd3f",
   "metadata": {},
   "source": [
    "We can further our analysis by visualizing which company's air carrier has the most occurances of aviation accidents as illustrated below:"
   ]
  },
  {
   "cell_type": "code",
   "execution_count": 102,
   "id": "920ade83",
   "metadata": {},
   "outputs": [
    {
     "data": {
      "image/png": "[encoded data removed]",
      "text/plain": [
       "<Figure size 500x500 with 1 Axes>"
      ]
     },
     "metadata": {},
     "output_type": "display_data"
    }
   ],
   "source": [
    "#Key in the code for aircraft-carriers and accident occurances\n",
    "air_carrier=df1[\"Air Carrier\"].value_counts().head(10)#selecting top 10 air carriers\n",
    "plt.figure(figsize=(5,5))#Selecting the figure size\n",
    "sns.barplot(x=air_carrier.index,y=air_carrier.values)#plotting the bar graph\n",
    "plt.title(\"Accident Based on Air Carrier\")#selecting the title for the visualization\n",
    "plt.xlabel(\"Air Carrier\")#x-axis title\n",
    "plt.ylabel(\"Accident\")#y-label title\n",
    "plt.xticks(rotation=90);#selecting label type for the x-axis"
   ]
  },
  {
   "cell_type": "markdown",
   "id": "3dfd95a1",
   "metadata": {},
   "source": [
    "### Analysis based on Broad Phase of Flight"
   ]
  },
  {
   "cell_type": "markdown",
   "id": "06a2c81b",
   "metadata": {},
   "source": [
    "Analyzing using Broad Phase of Flight is of great importance for our analysis to be familiar under what phase do accidents occur is it during take-off, approach or landing. We can see when, by plotting our visualization below:"
   ]
  },
  {
   "cell_type": "code",
   "execution_count": 105,
   "id": "80ac121d",
   "metadata": {
    "scrolled": false
   },
   "outputs": [
    {
     "data": {
      "image/png": "[encoded data removed]",
      "text/plain": [
       "<Figure size 500x500 with 1 Axes>"
      ]
     },
     "metadata": {},
     "output_type": "display_data"
    }
   ],
   "source": [
    "#Code for analysis for top 5 broad of flights where accidents occur\n",
    "phase_flight=df1[\"Broad Phase Of Flight\"].value_counts().head(5)#selecting the top five\n",
    "plt.figure(figsize=(5,5))#Selecting the figure size\n",
    "sns.barplot(x=phase_flight.index, y=phase_flight.values)#plotting the bargraph\n",
    "plt.title(\"Broad Phase Of Flight Vs Accidents\")#title for the visualization\n",
    "plt.xlabel(\"Broad Phase Of Flight\")#x-axis title\n",
    "plt.ylabel(\"Accident Counts\")#y-axis title\n",
    "plt.show()#isualization\n"
   ]
  },
  {
   "cell_type": "markdown",
   "id": "e3512f08",
   "metadata": {},
   "source": [
    "### Analysis based on countries:"
   ]
  },
  {
   "cell_type": "markdown",
   "id": "aea07eff",
   "metadata": {},
   "source": [
    "We can further our analysis by checking which top five countries has the  most number of accidendt as recorded by the NTSB."
   ]
  },
  {
   "cell_type": "code",
   "execution_count": 67,
   "id": "fc54c991",
   "metadata": {},
   "outputs": [
    {
     "data": {
      "image/png": "[encoded data removed]",
      "text/plain": [
       "<Figure size 700x500 with 1 Axes>"
      ]
     },
     "metadata": {},
     "output_type": "display_data"
    }
   ],
   "source": [
    "#Accidents by the top five countries\n",
    "country_accidents = df1['Country'].value_counts().head(5)\n",
    "plt.figure(figsize=(7,5))\n",
    "sns.barplot(x=country_accidents.values, y=country_accidents.index, orient='h',color=\"skyblue\")\n",
    "plt.title('Accidents by Country')\n",
    "plt.xlabel('Accidents')\n",
    "plt.ylabel('Country');\n"
   ]
  },
  {
   "cell_type": "markdown",
   "id": "92a5a85f",
   "metadata": {},
   "source": [
    "### Analysis based on fatality vs countries"
   ]
  },
  {
   "cell_type": "markdown",
   "id": "b81a9604",
   "metadata": {},
   "source": [
    "The visualization below will indicate which top 10 countries have recorded the most fatalities on their soil or atmosphere."
   ]
  },
  {
   "cell_type": "code",
   "execution_count": 93,
   "id": "a5e86030",
   "metadata": {
    "scrolled": false
   },
   "outputs": [
    {
     "name": "stderr",
     "output_type": "stream",
     "text": [
      "C:\\Users\\123\\AppData\\Local\\Temp\\ipykernel_6620\\3388591712.py:9: FutureWarning: \n",
      "\n",
      "Passing `palette` without assigning `hue` is deprecated and will be removed in v0.14.0. Assign the `x` variable to `hue` and set `legend=False` for the same effect.\n",
      "\n",
      "  sns.barplot(x='Country', y='Fatal Injuries', data=plot_data, palette='Blues')\n"
     ]
    },
    {
     "data": {
      "image/png": "[encoded data removed]",
      "text/plain": [
       "<Figure size 1000x600 with 1 Axes>"
      ]
     },
     "metadata": {},
     "output_type": "display_data"
    }
   ],
   "source": [
    "# Grouping and sorting the categories\n",
    "country_injury = df1['Country'].value_counts().head(10)  # top 10 countries by injury\n",
    "#we will be statistical value.sum() and groupby to group the two categories \"Country and Fatalities\"\n",
    "fatal_injury = df1.groupby('Country')['Total Fatal Injuries'].sum().sort_values(ascending=False).head(10)\n",
    "# Creating the bar plot\n",
    "plt.figure(figsize=(10, 6))#selecting the figure size\n",
    "sns.barplot(x='Country', y='Fatal Injuries', data=plot_data, palette='Blues')#plotting the bar graph\n",
    "plt.xticks(rotation=45)\n",
    "plt.title('Top 10 Countries with the Highest Fatal Injuries')\n",
    "plt.show()\n",
    "\n"
   ]
  },
  {
   "cell_type": "markdown",
   "id": "28fb57b4",
   "metadata": {},
   "source": [
    "### Analysis on accidents based on locations"
   ]
  },
  {
   "cell_type": "markdown",
   "id": "5c69d808",
   "metadata": {},
   "source": [
    "Furhther did analysis on accidents based on their locations"
   ]
  },
  {
   "cell_type": "code",
   "execution_count": 106,
   "id": "9bcc88f1",
   "metadata": {},
   "outputs": [
    {
     "data": {
      "image/png": "[encoded data removed]",
      "text/plain": [
       "<Figure size 800x500 with 1 Axes>"
      ]
     },
     "metadata": {},
     "output_type": "display_data"
    }
   ],
   "source": [
    "location_accident=df1[\"Location\"].value_counts().head(10)\n",
    "plt.figure(figsize=(8, 5))\n",
    "sns.barplot(x=location_accident.index, y=location_accident.values)\n",
    "plt.title(\"Accidents based on locations\")\n",
    "plt.xlabel('Location')\n",
    "plt.ylabel(\"Accident counts\")\n",
    "plt.xticks(rotation=45)\n",
    "plt.show()\n",
    "\n",
    "\n"
   ]
  },
  {
   "cell_type": "markdown",
   "id": "c91601f8",
   "metadata": {},
   "source": [
    "### Analysis based on Investigation type"
   ]
  },
  {
   "cell_type": "markdown",
   "id": "84ae9fa4",
   "metadata": {},
   "source": [
    "We can further visualize on what was based on the investigation type it can either be an accident or an incident"
   ]
  },
  {
   "cell_type": "code",
   "execution_count": 68,
   "id": "139fde9b",
   "metadata": {},
   "outputs": [
    {
     "data": {
      "image/png": "[encoded data removed]",
      "text/plain": [
       "<Figure size 500x500 with 1 Axes>"
      ]
     },
     "metadata": {},
     "output_type": "display_data"
    }
   ],
   "source": [
    "Investigation_type=df1['Investigation Type'].value_counts()\n",
    "plt.figure(figsize=(5,5))\n",
    "sns.barplot(x=Investigation_type.index,y=Investigation_type.values)\n",
    "plt.xlabel(\"Type of Investigation\")\n",
    "plt.ylabel(\"Number of Occurances\")\n",
    "plt.title(\"Investigation Type\");\n"
   ]
  },
  {
   "cell_type": "markdown",
   "id": "e581a953",
   "metadata": {},
   "source": [
    "### Analysis based on Injury types"
   ]
  },
  {
   "cell_type": "markdown",
   "id": "801a02b0",
   "metadata": {},
   "source": [
    "We can check analysis based on the injury type and view whci one has the most occurances"
   ]
  },
  {
   "cell_type": "code",
   "execution_count": 99,
   "id": "f138529c",
   "metadata": {},
   "outputs": [
    {
     "name": "stderr",
     "output_type": "stream",
     "text": [
      "C:\\Users\\123\\AppData\\Local\\Temp\\ipykernel_6620\\1086983728.py:15: FutureWarning: \n",
      "\n",
      "Passing `palette` without assigning `hue` is deprecated and will be removed in v0.14.0. Assign the `x` variable to `hue` and set `legend=False` for the same effect.\n",
      "\n",
      "  sns.barplot(x='Injury Type', y='Count', data=injury_df, palette='Blues')\n"
     ]
    },
    {
     "data": {
      "image/png": "[encoded data removed]",
      "text/plain": [
       "<Figure size 800x500 with 1 Axes>"
      ]
     },
     "metadata": {},
     "output_type": "display_data"
    }
   ],
   "source": [
    "# sum and aggregate injury counts for each category\n",
    "injury_counts = {\n",
    "    'Fatal Injuries': df1['Total Fatal Injuries'].sum(),\n",
    "    'Serious Injuries': df1['Total Serious Injuries'].sum(),\n",
    "    'Minor Injuries': df1['Total Minor Injuries'].sum(),\n",
    "    'Uninjured': df1['Total Uninjured'].sum()\n",
    "}\n",
    "\n",
    "\n",
    "# Plotting the data\n",
    "plt.figure(figsize=(8, 5))\n",
    "sns.barplot(x='Injury Type', y='Count', data=injury_df, palette='Blues')\n",
    "plt.title('Total Injuries by Category')\n",
    "plt.ylabel('Total Count')\n",
    "plt.show()\n"
   ]
  },
  {
   "cell_type": "markdown",
   "id": "d56ea6b4",
   "metadata": {},
   "source": [
    "### Analysing accidents yearly"
   ]
  },
  {
   "cell_type": "markdown",
   "id": "81dd8589",
   "metadata": {},
   "source": [
    "We can further do analysis and analyize how accidents have been fairing on over the past decades"
   ]
  },
  {
   "cell_type": "code",
   "execution_count": 66,
   "id": "500a79ac",
   "metadata": {},
   "outputs": [
    {
     "data": {
      "image/png": "[encoded data removed]",
      "text/plain": [
       "<Figure size 1000x500 with 1 Axes>"
      ]
     },
     "metadata": {},
     "output_type": "display_data"
    }
   ],
   "source": [
    "#Accidents occuring yearly\n",
    "df1['Year'] = pd.to_datetime(df1['Event Date'].str.strip()).dt.year#selecting the dates based on the years\n",
    "yearly_accidents = df1['Year'].value_counts().sort_index()#sorting in index form\n",
    "plt.figure(figsize=(10, 5))#Selecting the figure size\n",
    "sns.lineplot(x=yearly_accidents.index, y=yearly_accidents.values)#plotting a line plot \n",
    "plt.title('Yearly Accidents')#title\n",
    "plt.xlabel('Year')#x-axis label\n",
    "plt.ylabel('Accidents')#y-axis label\n",
    "plt.xticks(rotation=45);"
   ]
  }
 ],
 "metadata": {
  "kernelspec": {
   "display_name": "Python 3 (ipykernel)",
   "language": "python",
   "name": "python3"
  },
  "language_info": {
   "codemirror_mode": {
    "name": "ipython",
    "version": 3
   },
   "file_extension": ".py",
   "mimetype": "text/x-python",
   "name": "python",
   "nbconvert_exporter": "python",
   "pygments_lexer": "ipython3",
   "version": "3.11.7"
  },
  "toc": {
   "base_numbering": 1,
   "nav_menu": {},
   "number_sections": true,
   "sideBar": true,
   "skip_h1_title": false,
   "title_cell": "Table of Contents",
   "title_sidebar": "Contents",
   "toc_cell": false,
   "toc_position": {},
   "toc_section_display": true,
   "toc_window_display": false
  }
 },
 "nbformat": 4,
 "nbformat_minor": 5
}
